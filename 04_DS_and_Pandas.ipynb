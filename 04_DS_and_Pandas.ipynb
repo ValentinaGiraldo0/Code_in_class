{
  "nbformat": 4,
  "nbformat_minor": 0,
  "metadata": {
    "colab": {
      "provenance": [],
      "authorship_tag": "ABX9TyMWJ9DA7DccOeEUq+sSct00",
      "include_colab_link": true
    },
    "kernelspec": {
      "name": "python3",
      "display_name": "Python 3"
    },
    "language_info": {
      "name": "python"
    }
  },
  "cells": [
    {
      "cell_type": "markdown",
      "metadata": {
        "id": "view-in-github",
        "colab_type": "text"
      },
      "source": [
        "<a href=\"https://colab.research.google.com/github/ValentinaGiraldo0/Code_in_class/blob/main/04_DS_and_Pandas.ipynb\" target=\"_parent\"><img src=\"https://colab.research.google.com/assets/colab-badge.svg\" alt=\"Open In Colab\"/></a>"
      ]
    },
    {
      "cell_type": "markdown",
      "source": [
        "# **1. Data Structure and Pandas**\n",
        "\n",
        "`numpy` is for vector and matrices (`arrays`)\n",
        "\n",
        "`pandas` is a library to work with databases (data with relations and conextion). In practical terms, `pandas` is the Excel of Python.\n",
        "\n",
        "To make clear you can work with `numpy` and `pandas` at the same time. "
      ],
      "metadata": {
        "id": "zuTYyLVlk4hz"
      }
    },
    {
      "cell_type": "code",
      "source": [
        "import pandas as pd\n",
        "import numpy as np"
      ],
      "metadata": {
        "id": "UzgVqp7Qmax1"
      },
      "execution_count": 1,
      "outputs": []
    },
    {
      "cell_type": "markdown",
      "source": [
        "# **2. Pandas Series**\n",
        "\n",
        "A series (in pandas) is a one-dimensional object."
      ],
      "metadata": {
        "id": "QE6GBV-7m4L8"
      }
    },
    {
      "cell_type": "markdown",
      "source": [
        "## 2.1. Series cretion "
      ],
      "metadata": {
        "id": "QtXQzGetm_Tl"
      }
    },
    {
      "cell_type": "code",
      "source": [
        "# Empty series \n",
        "\n",
        "s_empty = pd.Series()\n",
        "print(s_empty)"
      ],
      "metadata": {
        "colab": {
          "base_uri": "https://localhost:8080/"
        },
        "id": "ekWD8OKwnE28",
        "outputId": "7e1f7def-e865-4095-f9bf-8e02c9e3664e"
      },
      "execution_count": 7,
      "outputs": [
        {
          "output_type": "stream",
          "name": "stdout",
          "text": [
            "Series([], dtype: float64)\n"
          ]
        },
        {
          "output_type": "stream",
          "name": "stderr",
          "text": [
            "/usr/local/lib/python3.7/dist-packages/ipykernel_launcher.py:3: DeprecationWarning: The default dtype for empty Series will be 'object' instead of 'float64' in a future version. Specify a dtype explicitly to silence this warning.\n",
            "  This is separate from the ipykernel package so we can avoid doing imports until\n"
          ]
        }
      ]
    },
    {
      "cell_type": "code",
      "source": [
        "# Creating a Series - Typing the value\n",
        "## int values\n",
        "\n",
        "s_int = pd.Series([1,2,3,4,5,6,7])\n",
        "print(s_int)"
      ],
      "metadata": {
        "colab": {
          "base_uri": "https://localhost:8080/"
        },
        "id": "ZMZTD08RoOIf",
        "outputId": "71589c49-d35b-4802-88d1-9f4b356ff7ce"
      },
      "execution_count": 6,
      "outputs": [
        {
          "output_type": "stream",
          "name": "stdout",
          "text": [
            "0    1\n",
            "1    2\n",
            "2    3\n",
            "3    4\n",
            "4    5\n",
            "5    6\n",
            "6    7\n",
            "dtype: int64\n"
          ]
        }
      ]
    },
    {
      "cell_type": "code",
      "source": [
        "# Creating a Series - using random numbers\n",
        "## float values\n",
        "\n",
        "s_num = pd.Series(np.random.rand(8))\n",
        "print(s_num)"
      ],
      "metadata": {
        "colab": {
          "base_uri": "https://localhost:8080/"
        },
        "id": "hzDXis59o0Eq",
        "outputId": "1a910aa7-601b-4130-c28b-926f84202965"
      },
      "execution_count": 5,
      "outputs": [
        {
          "output_type": "stream",
          "name": "stdout",
          "text": [
            "0    0.991200\n",
            "1    0.638214\n",
            "2    0.807384\n",
            "3    0.992787\n",
            "4    0.667401\n",
            "5    0.957917\n",
            "6    0.755818\n",
            "7    0.755054\n",
            "dtype: float64\n"
          ]
        }
      ]
    },
    {
      "cell_type": "code",
      "source": [
        "# Creating a series\n",
        "# With str\n",
        "\n",
        "s_str = pd.Series(['Valenina', 'Ashly','Cristian','Karen','Alice','Rodirgo'])\n",
        "print(s_str)"
      ],
      "metadata": {
        "colab": {
          "base_uri": "https://localhost:8080/"
        },
        "id": "5hBcjjOodEdP",
        "outputId": "1c526c5b-1152-4f42-ea49-cf1f2000cf48"
      },
      "execution_count": 3,
      "outputs": [
        {
          "output_type": "stream",
          "name": "stdout",
          "text": [
            "0    Valenina\n",
            "1       Ashly\n",
            "2    Cristian\n",
            "3       Karen\n",
            "4       Alice\n",
            "5     Rodirgo\n",
            "dtype: object\n"
          ]
        }
      ]
    },
    {
      "cell_type": "code",
      "source": [
        "# Creating a Series \n",
        "\n",
        "tmp = pd.Series([1, 0.2548, 'Python'])\n",
        "print(tmp)"
      ],
      "metadata": {
        "colab": {
          "base_uri": "https://localhost:8080/"
        },
        "id": "VTtxqO8cdpfy",
        "outputId": "5ec35118-01c6-4604-9ea4-ccee7853d7f3"
      },
      "execution_count": 4,
      "outputs": [
        {
          "output_type": "stream",
          "name": "stdout",
          "text": [
            "0         1\n",
            "1    0.2548\n",
            "2    Python\n",
            "dtype: object\n"
          ]
        }
      ]
    },
    {
      "cell_type": "markdown",
      "source": [
        "## 2.2. Indexing\n",
        "\n"
      ],
      "metadata": {
        "id": "AgFaZpYgeCty"
      }
    },
    {
      "cell_type": "code",
      "source": [
        "# Check the index of a series\n",
        "s_num.index"
      ],
      "metadata": {
        "colab": {
          "base_uri": "https://localhost:8080/"
        },
        "id": "c3AMvxZCeQQS",
        "outputId": "14ffe27e-69b5-4a35-a35e-063ac4f69225"
      },
      "execution_count": 8,
      "outputs": [
        {
          "output_type": "execute_result",
          "data": {
            "text/plain": [
              "RangeIndex(start=0, stop=8, step=1)"
            ]
          },
          "metadata": {},
          "execution_count": 8
        }
      ]
    },
    {
      "cell_type": "code",
      "source": [
        "# Create your own index\n",
        "\n",
        "new_index = ['i','ii','iii','iv']\n",
        "s_ran = pd.Series(np.random.rand(4), index = new_index)\n",
        "print(s_ran)\n",
        "s_ran.index"
      ],
      "metadata": {
        "colab": {
          "base_uri": "https://localhost:8080/"
        },
        "id": "kEIIxd8EehPi",
        "outputId": "8cde278b-87c1-4a42-d497-a58c335f4a76"
      },
      "execution_count": 13,
      "outputs": [
        {
          "output_type": "stream",
          "name": "stdout",
          "text": [
            "i      0.801590\n",
            "ii     0.237169\n",
            "iii    0.073429\n",
            "iv     0.796170\n",
            "dtype: float64\n"
          ]
        },
        {
          "output_type": "execute_result",
          "data": {
            "text/plain": [
              "Index(['i', 'ii', 'iii', 'iv'], dtype='object')"
            ]
          },
          "metadata": {},
          "execution_count": 13
        }
      ]
    },
    {
      "cell_type": "markdown",
      "source": [
        "## 2.3. Selecting and Slicing\n",
        "\n",
        "Rember that series are one-dimensional objects, so we only need one *number* to identify an element."
      ],
      "metadata": {
        "id": "gl5mzoI_fiqp"
      }
    },
    {
      "cell_type": "code",
      "source": [
        "# Selecting one value\n",
        "\n",
        "print('The first element of s_num:',s_num[0])\n",
        "print('The first element of s_ran:',s_ran[0])\n",
        "print('The first element of s_ran:',s_ran['i'])"
      ],
      "metadata": {
        "colab": {
          "base_uri": "https://localhost:8080/"
        },
        "id": "mLdhqps9fc2J",
        "outputId": "7f2a444a-91e5-4a61-baea-559ff8772db7"
      },
      "execution_count": 16,
      "outputs": [
        {
          "output_type": "stream",
          "name": "stdout",
          "text": [
            "The first element of s_num: 0.9911997852050377\n",
            "The first element of s_ran: 0.8015903837700445\n",
            "The first element of s_ran: 0.8015903837700445\n"
          ]
        }
      ]
    },
    {
      "cell_type": "code",
      "source": [
        "# Selecting more than one value\n",
        "\n",
        "s_num[[5,7]] # This selects the 5th and 8th element"
      ],
      "metadata": {
        "colab": {
          "base_uri": "https://localhost:8080/"
        },
        "id": "FF2W894-hKkS",
        "outputId": "a922429c-c267-4725-f570-27e931bda26d"
      },
      "execution_count": 18,
      "outputs": [
        {
          "output_type": "execute_result",
          "data": {
            "text/plain": [
              "5    0.957917\n",
              "7    0.755054\n",
              "dtype: float64"
            ]
          },
          "metadata": {},
          "execution_count": 18
        }
      ]
    },
    {
      "cell_type": "code",
      "source": [
        "# Selecting more than one value\n",
        "s_ran[['i','iv']] # This selects the 1st and 4th element"
      ],
      "metadata": {
        "colab": {
          "base_uri": "https://localhost:8080/"
        },
        "id": "SC44KMhXhqaW",
        "outputId": "f9543da6-6137-4f0f-813e-282463241002"
      },
      "execution_count": 20,
      "outputs": [
        {
          "output_type": "execute_result",
          "data": {
            "text/plain": [
              "i     0.80159\n",
              "iv    0.79617\n",
              "dtype: float64"
            ]
          },
          "metadata": {},
          "execution_count": 20
        }
      ]
    },
    {
      "cell_type": "code",
      "source": [
        "# Selecting a secuence of values.\n",
        "\n",
        "print(s_num[:3])"
      ],
      "metadata": {
        "colab": {
          "base_uri": "https://localhost:8080/"
        },
        "id": "suDo0e6oh4YR",
        "outputId": "ddbc4671-03cd-46cd-827f-89bfb5adeb9a"
      },
      "execution_count": 24,
      "outputs": [
        {
          "output_type": "stream",
          "name": "stdout",
          "text": [
            "0    0.991200\n",
            "1    0.638214\n",
            "2    0.807384\n",
            "dtype: float64\n"
          ]
        }
      ]
    },
    {
      "cell_type": "code",
      "source": [
        "# Change a value\n",
        "\n",
        "s_num[0] = 100 #Chaning the first element of s_num\n",
        "print(s_num)"
      ],
      "metadata": {
        "colab": {
          "base_uri": "https://localhost:8080/"
        },
        "id": "8PfX68WKiVmU",
        "outputId": "3e472e99-f3c6-44ff-8e08-461ce5f663b8"
      },
      "execution_count": 30,
      "outputs": [
        {
          "output_type": "stream",
          "name": "stdout",
          "text": [
            "0    100.000000\n",
            "1      0.638214\n",
            "2      0.807384\n",
            "3      0.992787\n",
            "4      0.667401\n",
            "5      0.957917\n",
            "6      0.755818\n",
            "7      0.755054\n",
            "dtype: float64\n"
          ]
        }
      ]
    },
    {
      "cell_type": "markdown",
      "source": [
        "##  2.4. Operations \n",
        "\n"
      ],
      "metadata": {
        "id": "0bqGaCGbjBks"
      }
    },
    {
      "cell_type": "code",
      "source": [
        "# Basic operaions - element wise\n",
        "\n",
        "# #Addition\n",
        "s_num + 2\n",
        "\n",
        "## Substraction\n",
        "s_num - 3\n",
        "\n",
        "## Multiplication\n",
        "s_num * 4\n",
        "\n",
        "## Division\n",
        "s_num / 5\n",
        "\n",
        "## Exponentiation\n",
        "s_num ** 2\n",
        "\n",
        "## Special\n",
        "np.exp(s_num)\n",
        "np.log(s_num)"
      ],
      "metadata": {
        "colab": {
          "base_uri": "https://localhost:8080/"
        },
        "id": "1KFOD8lJi9d9",
        "outputId": "0bd85283-052e-4ab3-ae6d-32f31a568e46"
      },
      "execution_count": 36,
      "outputs": [
        {
          "output_type": "execute_result",
          "data": {
            "text/plain": [
              "0    4.605170\n",
              "1   -0.449081\n",
              "2   -0.213956\n",
              "3   -0.007239\n",
              "4   -0.404364\n",
              "5   -0.042995\n",
              "6   -0.279955\n",
              "7   -0.280966\n",
              "dtype: float64"
            ]
          },
          "metadata": {},
          "execution_count": 36
        }
      ]
    },
    {
      "cell_type": "markdown",
      "source": [
        "# **3. Pandas Time - Series**\n",
        "\n",
        "It is a very special object because is that the index are dates."
      ],
      "metadata": {
        "id": "8J_J-z2dklKd"
      }
    },
    {
      "cell_type": "markdown",
      "source": [
        "## 3.1. Indexing Pandas - TimeSeries"
      ],
      "metadata": {
        "id": "6_HN2q3HlLmk"
      }
    },
    {
      "cell_type": "code",
      "source": [
        "# Create a date range \n",
        "pd.date_range(start = '01/01/2022', end = '28/09/2022')"
      ],
      "metadata": {
        "colab": {
          "base_uri": "https://localhost:8080/"
        },
        "id": "jE2jbAX0jloN",
        "outputId": "f5a33301-f46f-4794-bbea-483f9ef439c9"
      },
      "execution_count": 39,
      "outputs": [
        {
          "output_type": "execute_result",
          "data": {
            "text/plain": [
              "DatetimeIndex(['2022-01-01', '2022-01-02', '2022-01-03', '2022-01-04',\n",
              "               '2022-01-05', '2022-01-06', '2022-01-07', '2022-01-08',\n",
              "               '2022-01-09', '2022-01-10',\n",
              "               ...\n",
              "               '2022-09-19', '2022-09-20', '2022-09-21', '2022-09-22',\n",
              "               '2022-09-23', '2022-09-24', '2022-09-25', '2022-09-26',\n",
              "               '2022-09-27', '2022-09-28'],\n",
              "              dtype='datetime64[ns]', length=271, freq='D')"
            ]
          },
          "metadata": {},
          "execution_count": 39
        }
      ]
    },
    {
      "cell_type": "code",
      "source": [
        "# Create a date range \n",
        "pd.date_range(start = '01/01/2022', periods = 35)"
      ],
      "metadata": {
        "colab": {
          "base_uri": "https://localhost:8080/"
        },
        "id": "PncbcGp-mdDU",
        "outputId": "22dbbb90-4c87-49d0-cb4f-4a29d8d95a43"
      },
      "execution_count": 40,
      "outputs": [
        {
          "output_type": "execute_result",
          "data": {
            "text/plain": [
              "DatetimeIndex(['2022-01-01', '2022-01-02', '2022-01-03', '2022-01-04',\n",
              "               '2022-01-05', '2022-01-06', '2022-01-07', '2022-01-08',\n",
              "               '2022-01-09', '2022-01-10', '2022-01-11', '2022-01-12',\n",
              "               '2022-01-13', '2022-01-14', '2022-01-15', '2022-01-16',\n",
              "               '2022-01-17', '2022-01-18', '2022-01-19', '2022-01-20',\n",
              "               '2022-01-21', '2022-01-22', '2022-01-23', '2022-01-24',\n",
              "               '2022-01-25', '2022-01-26', '2022-01-27', '2022-01-28',\n",
              "               '2022-01-29', '2022-01-30', '2022-01-31', '2022-02-01',\n",
              "               '2022-02-02', '2022-02-03', '2022-02-04'],\n",
              "              dtype='datetime64[ns]', freq='D')"
            ]
          },
          "metadata": {},
          "execution_count": 40
        }
      ]
    },
    {
      "cell_type": "code",
      "source": [
        "# Create a date range \n",
        "pd.date_range(end = '28/09/2022', periods = 23, freq = 'D')"
      ],
      "metadata": {
        "colab": {
          "base_uri": "https://localhost:8080/"
        },
        "id": "HE1NzT_amvfb",
        "outputId": "7b47f51d-9e66-4e29-9b10-8609c485f842"
      },
      "execution_count": 43,
      "outputs": [
        {
          "output_type": "execute_result",
          "data": {
            "text/plain": [
              "DatetimeIndex(['2020-10-31', '2020-11-30', '2020-12-31', '2021-01-31',\n",
              "               '2021-02-28', '2021-03-31', '2021-04-30', '2021-05-31',\n",
              "               '2021-06-30', '2021-07-31', '2021-08-31', '2021-09-30',\n",
              "               '2021-10-31', '2021-11-30', '2021-12-31', '2022-01-31',\n",
              "               '2022-02-28', '2022-03-31', '2022-04-30', '2022-05-31',\n",
              "               '2022-06-30', '2022-07-31', '2022-08-31'],\n",
              "              dtype='datetime64[ns]', freq='M')"
            ]
          },
          "metadata": {},
          "execution_count": 43
        }
      ]
    },
    {
      "cell_type": "markdown",
      "source": [
        "If I need a different frecuency:\n",
        "* H - Hourly\n",
        "* M - End of the month\n",
        "* MS - Start of the month\n",
        "* XM - 2M\n",
        "* XMS - 2MS\n",
        "* Q - End of the quarter \n",
        "* QS - Start pf the quater \n",
        "* A or Y - End of the year\n",
        "* AS or YS - Start of the year\n",
        "\n"
      ],
      "metadata": {
        "id": "3zhpyrxBnbnt"
      }
    },
    {
      "cell_type": "code",
      "source": [
        "pd.date_range(start = '28/09/2022', end = '29/09/2022', freq = 'H')"
      ],
      "metadata": {
        "colab": {
          "base_uri": "https://localhost:8080/"
        },
        "id": "Z7OzlBSTofx6",
        "outputId": "25c9ebc5-2a15-4942-d28f-337f93102ca9"
      },
      "execution_count": 44,
      "outputs": [
        {
          "output_type": "execute_result",
          "data": {
            "text/plain": [
              "DatetimeIndex(['2022-09-28 00:00:00', '2022-09-28 01:00:00',\n",
              "               '2022-09-28 02:00:00', '2022-09-28 03:00:00',\n",
              "               '2022-09-28 04:00:00', '2022-09-28 05:00:00',\n",
              "               '2022-09-28 06:00:00', '2022-09-28 07:00:00',\n",
              "               '2022-09-28 08:00:00', '2022-09-28 09:00:00',\n",
              "               '2022-09-28 10:00:00', '2022-09-28 11:00:00',\n",
              "               '2022-09-28 12:00:00', '2022-09-28 13:00:00',\n",
              "               '2022-09-28 14:00:00', '2022-09-28 15:00:00',\n",
              "               '2022-09-28 16:00:00', '2022-09-28 17:00:00',\n",
              "               '2022-09-28 18:00:00', '2022-09-28 19:00:00',\n",
              "               '2022-09-28 20:00:00', '2022-09-28 21:00:00',\n",
              "               '2022-09-28 22:00:00', '2022-09-28 23:00:00',\n",
              "               '2022-09-29 00:00:00'],\n",
              "              dtype='datetime64[ns]', freq='H')"
            ]
          },
          "metadata": {},
          "execution_count": 44
        }
      ]
    },
    {
      "cell_type": "code",
      "source": [
        "pd.date_range(start = '28/09/2022', periods = 37, freq = 'H')"
      ],
      "metadata": {
        "colab": {
          "base_uri": "https://localhost:8080/"
        },
        "id": "9ApclVvdo6UK",
        "outputId": "0f3ef5a7-bc3d-4cd8-c695-00f19b7be2f7"
      },
      "execution_count": 45,
      "outputs": [
        {
          "output_type": "execute_result",
          "data": {
            "text/plain": [
              "DatetimeIndex(['2022-09-28 00:00:00', '2022-09-28 01:00:00',\n",
              "               '2022-09-28 02:00:00', '2022-09-28 03:00:00',\n",
              "               '2022-09-28 04:00:00', '2022-09-28 05:00:00',\n",
              "               '2022-09-28 06:00:00', '2022-09-28 07:00:00',\n",
              "               '2022-09-28 08:00:00', '2022-09-28 09:00:00',\n",
              "               '2022-09-28 10:00:00', '2022-09-28 11:00:00',\n",
              "               '2022-09-28 12:00:00', '2022-09-28 13:00:00',\n",
              "               '2022-09-28 14:00:00', '2022-09-28 15:00:00',\n",
              "               '2022-09-28 16:00:00', '2022-09-28 17:00:00',\n",
              "               '2022-09-28 18:00:00', '2022-09-28 19:00:00',\n",
              "               '2022-09-28 20:00:00', '2022-09-28 21:00:00',\n",
              "               '2022-09-28 22:00:00', '2022-09-28 23:00:00',\n",
              "               '2022-09-29 00:00:00', '2022-09-29 01:00:00',\n",
              "               '2022-09-29 02:00:00', '2022-09-29 03:00:00',\n",
              "               '2022-09-29 04:00:00', '2022-09-29 05:00:00',\n",
              "               '2022-09-29 06:00:00', '2022-09-29 07:00:00',\n",
              "               '2022-09-29 08:00:00', '2022-09-29 09:00:00',\n",
              "               '2022-09-29 10:00:00', '2022-09-29 11:00:00',\n",
              "               '2022-09-29 12:00:00'],\n",
              "              dtype='datetime64[ns]', freq='H')"
            ]
          },
          "metadata": {},
          "execution_count": 45
        }
      ]
    },
    {
      "cell_type": "code",
      "source": [
        "pd.date_range(start = '28/09/2022', periods = 37, freq = 'A')"
      ],
      "metadata": {
        "colab": {
          "base_uri": "https://localhost:8080/"
        },
        "id": "IR7hg5c1pHny",
        "outputId": "a8f1ffe3-5136-4581-c7a1-7673cc61c92c"
      },
      "execution_count": 46,
      "outputs": [
        {
          "output_type": "execute_result",
          "data": {
            "text/plain": [
              "DatetimeIndex(['2022-12-31', '2023-12-31', '2024-12-31', '2025-12-31',\n",
              "               '2026-12-31', '2027-12-31', '2028-12-31', '2029-12-31',\n",
              "               '2030-12-31', '2031-12-31', '2032-12-31', '2033-12-31',\n",
              "               '2034-12-31', '2035-12-31', '2036-12-31', '2037-12-31',\n",
              "               '2038-12-31', '2039-12-31', '2040-12-31', '2041-12-31',\n",
              "               '2042-12-31', '2043-12-31', '2044-12-31', '2045-12-31',\n",
              "               '2046-12-31', '2047-12-31', '2048-12-31', '2049-12-31',\n",
              "               '2050-12-31', '2051-12-31', '2052-12-31', '2053-12-31',\n",
              "               '2054-12-31', '2055-12-31', '2056-12-31', '2057-12-31',\n",
              "               '2058-12-31'],\n",
              "              dtype='datetime64[ns]', freq='A-DEC')"
            ]
          },
          "metadata": {},
          "execution_count": 46
        }
      ]
    },
    {
      "cell_type": "code",
      "source": [
        "pd.date_range(start = '28/09/2022', periods = 37, freq = 'MS')"
      ],
      "metadata": {
        "colab": {
          "base_uri": "https://localhost:8080/"
        },
        "id": "csjED9izpW6h",
        "outputId": "04a85d99-be7f-49d6-c675-f43dd6ee8b6f"
      },
      "execution_count": 48,
      "outputs": [
        {
          "output_type": "execute_result",
          "data": {
            "text/plain": [
              "DatetimeIndex(['2022-10-01', '2022-11-01', '2022-12-01', '2023-01-01',\n",
              "               '2023-02-01', '2023-03-01', '2023-04-01', '2023-05-01',\n",
              "               '2023-06-01', '2023-07-01', '2023-08-01', '2023-09-01',\n",
              "               '2023-10-01', '2023-11-01', '2023-12-01', '2024-01-01',\n",
              "               '2024-02-01', '2024-03-01', '2024-04-01', '2024-05-01',\n",
              "               '2024-06-01', '2024-07-01', '2024-08-01', '2024-09-01',\n",
              "               '2024-10-01', '2024-11-01', '2024-12-01', '2025-01-01',\n",
              "               '2025-02-01', '2025-03-01', '2025-04-01', '2025-05-01',\n",
              "               '2025-06-01', '2025-07-01', '2025-08-01', '2025-09-01',\n",
              "               '2025-10-01'],\n",
              "              dtype='datetime64[ns]', freq='MS')"
            ]
          },
          "metadata": {},
          "execution_count": 48
        }
      ]
    },
    {
      "cell_type": "markdown",
      "source": [
        "## 3.2. Assign a time-series index\n"
      ],
      "metadata": {
        "id": "ruFy8nRpqZvS"
      }
    },
    {
      "cell_type": "code",
      "source": [
        "# Create a Series \n",
        "# How do I get append or assign dates?\n",
        "my_dates = pd.date_range(start = '26/09/2022', end = '30/09/2022')\n",
        "\n",
        "s_sales = pd.Series(np.random.randint(low = 100, high = 300, size = 5),\n",
        "                    index = my_dates) #This is the data for sales\n",
        "print(s_sales)"
      ],
      "metadata": {
        "colab": {
          "base_uri": "https://localhost:8080/"
        },
        "id": "1uw42CD5qgTb",
        "outputId": "14e26c7d-d2a4-43dc-bb8e-ffc8a959c3f7"
      },
      "execution_count": 55,
      "outputs": [
        {
          "output_type": "stream",
          "name": "stdout",
          "text": [
            "2022-09-26    282\n",
            "2022-09-27    253\n",
            "2022-09-28    229\n",
            "2022-09-29    102\n",
            "2022-09-30    140\n",
            "Freq: D, dtype: int64\n"
          ]
        }
      ]
    }
  ]
}