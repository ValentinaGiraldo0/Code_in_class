{
  "nbformat": 4,
  "nbformat_minor": 0,
  "metadata": {
    "colab": {
      "name": "Python.ipynb",
      "provenance": [],
      "toc_visible": true,
      "authorship_tag": "ABX9TyOwONSoNZ12ETqCO/AZM11k",
      "include_colab_link": true
    },
    "kernelspec": {
      "name": "python3",
      "display_name": "Python 3"
    },
    "language_info": {
      "name": "python"
    }
  },
  "cells": [
    {
      "cell_type": "markdown",
      "metadata": {
        "id": "view-in-github",
        "colab_type": "text"
      },
      "source": [
        "<a href=\"https://colab.research.google.com/github/ValentinaGiraldo0/Code_in_class/blob/main/Python.ipynb\" target=\"_parent\"><img src=\"https://colab.research.google.com/assets/colab-badge.svg\" alt=\"Open In Colab\"/></a>"
      ]
    },
    {
      "cell_type": "markdown",
      "source": [
        "# **Introduction**\n",
        "\n",
        "We are going to start **promming**"
      ],
      "metadata": {
        "id": "qXsWGE-NretN"
      }
    },
    {
      "cell_type": "markdown",
      "source": [
        "# **1. What is Python?**\n",
        "\n",
        "It was 1991 and can do anything\n"
      ],
      "metadata": {
        "id": "Ejy70tOfofuO"
      }
    },
    {
      "cell_type": "markdown",
      "source": [
        "#  **2. Why Python?**\n",
        "It is free.\n",
        "It is open source. \n",
        "It is easy to learn."
      ],
      "metadata": {
        "id": "uCHTHRyyompW"
      }
    },
    {
      "cell_type": "markdown",
      "source": [
        "# **3. Getting Started**\n",
        " \n"
      ],
      "metadata": {
        "id": "WVnFdSuPpF5s"
      }
    },
    {
      "cell_type": "markdown",
      "source": [
        "## 3.1 Python as a calculator"
      ],
      "metadata": {
        "id": "o5isbmsrqDBD"
      }
    },
    {
      "cell_type": "code",
      "source": [
        "# Addition\n",
        "2+2\n"
      ],
      "metadata": {
        "colab": {
          "base_uri": "https://localhost:8080/"
        },
        "id": "wb0ix1YgqbiL",
        "outputId": "2309cfba-965c-48f5-cb39-e9a357dd8142"
      },
      "execution_count": 3,
      "outputs": [
        {
          "output_type": "execute_result",
          "data": {
            "text/plain": [
              "4"
            ]
          },
          "metadata": {},
          "execution_count": 3
        }
      ]
    },
    {
      "cell_type": "code",
      "source": [
        "# Subtration\n",
        "2-2"
      ],
      "metadata": {
        "colab": {
          "base_uri": "https://localhost:8080/"
        },
        "id": "xQd56BVLqgHF",
        "outputId": "042f6223-7d25-4f7e-c458-9142809ee9ff"
      },
      "execution_count": 2,
      "outputs": [
        {
          "output_type": "execute_result",
          "data": {
            "text/plain": [
              "0"
            ]
          },
          "metadata": {},
          "execution_count": 2
        }
      ]
    },
    {
      "cell_type": "code",
      "source": [
        "# Multiplication\n",
        "7*14"
      ],
      "metadata": {
        "colab": {
          "base_uri": "https://localhost:8080/"
        },
        "id": "jfuOs0hsqsE7",
        "outputId": "e6cba492-fbec-41c5-fd78-5d054c130b21"
      },
      "execution_count": 4,
      "outputs": [
        {
          "output_type": "execute_result",
          "data": {
            "text/plain": [
              "98"
            ]
          },
          "metadata": {},
          "execution_count": 4
        }
      ]
    },
    {
      "cell_type": "code",
      "source": [
        "# Exponental\n",
        "5**3\n"
      ],
      "metadata": {
        "colab": {
          "base_uri": "https://localhost:8080/"
        },
        "id": "2Kgoc9NGq9fb",
        "outputId": "73021320-363a-4095-deff-95fdfdf8c689"
      },
      "execution_count": 5,
      "outputs": [
        {
          "output_type": "execute_result",
          "data": {
            "text/plain": [
              "125"
            ]
          },
          "metadata": {},
          "execution_count": 5
        }
      ]
    },
    {
      "cell_type": "code",
      "source": [
        "# Division\n",
        "10/3\n"
      ],
      "metadata": {
        "colab": {
          "base_uri": "https://localhost:8080/"
        },
        "id": "zhLjSgHtrFFk",
        "outputId": "a56b5844-205e-4b5d-9212-bcdce69300da"
      },
      "execution_count": 6,
      "outputs": [
        {
          "output_type": "execute_result",
          "data": {
            "text/plain": [
              "3.3333333333333335"
            ]
          },
          "metadata": {},
          "execution_count": 6
        }
      ]
    },
    {
      "cell_type": "code",
      "source": [
        "# Interger Division\n",
        "10//3"
      ],
      "metadata": {
        "colab": {
          "base_uri": "https://localhost:8080/"
        },
        "id": "RyTEPEeXrJ8h",
        "outputId": "d8a0d22c-b6d6-4fd5-942f-0d6164d77568"
      },
      "execution_count": 7,
      "outputs": [
        {
          "output_type": "execute_result",
          "data": {
            "text/plain": [
              "3"
            ]
          },
          "metadata": {},
          "execution_count": 7
        }
      ]
    }
  ]
}