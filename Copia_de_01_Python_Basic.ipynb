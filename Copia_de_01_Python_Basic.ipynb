{
  "nbformat": 4,
  "nbformat_minor": 0,
  "metadata": {
    "colab": {
      "name": "Copia de 01. Python Basic.ipynb",
      "provenance": [],
      "authorship_tag": "ABX9TyND/bRWStKfTMmuKul4RKvS",
      "include_colab_link": true
    },
    "kernelspec": {
      "name": "python3",
      "display_name": "Python 3"
    },
    "language_info": {
      "name": "python"
    }
  },
  "cells": [
    {
      "cell_type": "markdown",
      "metadata": {
        "id": "view-in-github",
        "colab_type": "text"
      },
      "source": [
        "<a href=\"https://colab.research.google.com/github/ValentinaGiraldo0/Code_in_class/blob/main/Copia_de_01_Python_Basic.ipynb\" target=\"_parent\"><img src=\"https://colab.research.google.com/assets/colab-badge.svg\" alt=\"Open In Colab\"/></a>"
      ]
    },
    {
      "cell_type": "markdown",
      "source": [
        "# **Introduction**\n",
        "\n",
        "We are going to start **promming**"
      ],
      "metadata": {
        "id": "qXsWGE-NretN"
      }
    },
    {
      "cell_type": "markdown",
      "source": [
        "# **1. What is Python?**\n",
        "\n",
        "It was 1991 and can do anything\n"
      ],
      "metadata": {
        "id": "Ejy70tOfofuO"
      }
    },
    {
      "cell_type": "markdown",
      "source": [
        "#  **2. Why Python?**\n",
        "It is free.\n",
        "It is open source. \n",
        "It is easy to learn."
      ],
      "metadata": {
        "id": "uCHTHRyyompW"
      }
    },
    {
      "cell_type": "markdown",
      "source": [
        "# **3. Getting Started**\n",
        " \n"
      ],
      "metadata": {
        "id": "WVnFdSuPpF5s"
      }
    },
    {
      "cell_type": "markdown",
      "source": [
        "## 3.1 Python as a calculator"
      ],
      "metadata": {
        "id": "o5isbmsrqDBD"
      }
    },
    {
      "cell_type": "code",
      "source": [
        "# Addition\n",
        "2+2\n"
      ],
      "metadata": {
        "colab": {
          "base_uri": "https://localhost:8080/"
        },
        "id": "wb0ix1YgqbiL",
        "outputId": "2309cfba-965c-48f5-cb39-e9a357dd8142"
      },
      "execution_count": null,
      "outputs": [
        {
          "output_type": "execute_result",
          "data": {
            "text/plain": [
              "4"
            ]
          },
          "metadata": {},
          "execution_count": 3
        }
      ]
    },
    {
      "cell_type": "code",
      "source": [
        "# Subtration\n",
        "2-2"
      ],
      "metadata": {
        "colab": {
          "base_uri": "https://localhost:8080/"
        },
        "id": "xQd56BVLqgHF",
        "outputId": "042f6223-7d25-4f7e-c458-9142809ee9ff"
      },
      "execution_count": null,
      "outputs": [
        {
          "output_type": "execute_result",
          "data": {
            "text/plain": [
              "0"
            ]
          },
          "metadata": {},
          "execution_count": 2
        }
      ]
    },
    {
      "cell_type": "code",
      "source": [
        "# Multiplication\n",
        "7*14"
      ],
      "metadata": {
        "colab": {
          "base_uri": "https://localhost:8080/"
        },
        "id": "jfuOs0hsqsE7",
        "outputId": "e6cba492-fbec-41c5-fd78-5d054c130b21"
      },
      "execution_count": null,
      "outputs": [
        {
          "output_type": "execute_result",
          "data": {
            "text/plain": [
              "98"
            ]
          },
          "metadata": {},
          "execution_count": 4
        }
      ]
    },
    {
      "cell_type": "code",
      "source": [
        "# Exponental\n",
        "5**3\n"
      ],
      "metadata": {
        "colab": {
          "base_uri": "https://localhost:8080/"
        },
        "id": "2Kgoc9NGq9fb",
        "outputId": "73021320-363a-4095-deff-95fdfdf8c689"
      },
      "execution_count": null,
      "outputs": [
        {
          "output_type": "execute_result",
          "data": {
            "text/plain": [
              "125"
            ]
          },
          "metadata": {},
          "execution_count": 5
        }
      ]
    },
    {
      "cell_type": "code",
      "source": [
        "# Division\n",
        "10/3\n"
      ],
      "metadata": {
        "colab": {
          "base_uri": "https://localhost:8080/"
        },
        "id": "zhLjSgHtrFFk",
        "outputId": "a56b5844-205e-4b5d-9212-bcdce69300da"
      },
      "execution_count": null,
      "outputs": [
        {
          "output_type": "execute_result",
          "data": {
            "text/plain": [
              "3.3333333333333335"
            ]
          },
          "metadata": {},
          "execution_count": 6
        }
      ]
    },
    {
      "cell_type": "code",
      "source": [
        "# Interger Division\n",
        "10//3"
      ],
      "metadata": {
        "colab": {
          "base_uri": "https://localhost:8080/"
        },
        "id": "RyTEPEeXrJ8h",
        "outputId": "d8a0d22c-b6d6-4fd5-942f-0d6164d77568"
      },
      "execution_count": null,
      "outputs": [
        {
          "output_type": "execute_result",
          "data": {
            "text/plain": [
              "3"
            ]
          },
          "metadata": {},
          "execution_count": 7
        }
      ]
    },
    {
      "cell_type": "markdown",
      "source": [
        "## 3.2. Composite Operations \n",
        "\n",
        "*Operator precedence*\n",
        "2*3+7\n",
        "\n",
        "First is multiplication ir divisio, then addicion or sustration\n",
        "* or /, then + or -\n"
      ],
      "metadata": {
        "id": "oFVrMbIuMRrY"
      }
    },
    {
      "cell_type": "code",
      "source": [
        "# Example\n",
        "30-5*4/2+7\n"
      ],
      "metadata": {
        "colab": {
          "base_uri": "https://localhost:8080/"
        },
        "id": "YKhgz2l-M87i",
        "outputId": "d0f901f0-823f-47b7-f95a-469c6e46ec27"
      },
      "execution_count": null,
      "outputs": [
        {
          "output_type": "execute_result",
          "data": {
            "text/plain": [
              "27.0"
            ]
          },
          "metadata": {},
          "execution_count": 2
        }
      ]
    },
    {
      "cell_type": "markdown",
      "source": [
        "Parentheses `( )` allows to modify operator precedence.\n",
        "*texto en cursiva*\n"
      ],
      "metadata": {
        "id": "CJN4WyB5Nllr"
      }
    },
    {
      "cell_type": "code",
      "source": [
        "## Example \n",
        "(30-5)*4/2+7"
      ],
      "metadata": {
        "colab": {
          "base_uri": "https://localhost:8080/"
        },
        "id": "ACXy3XJpOAay",
        "outputId": "cabf2acd-a4a0-410f-e978-2dfe9d8947a0"
      },
      "execution_count": null,
      "outputs": [
        {
          "output_type": "execute_result",
          "data": {
            "text/plain": [
              "57.0"
            ]
          },
          "metadata": {},
          "execution_count": 3
        }
      ]
    },
    {
      "cell_type": "markdown",
      "source": [
        "## 3.3. Integrer and Real Numbers\n",
        "| Math | Code |\n",
        "|------|------|\n",
        "| Integers | Integers (int) |\n",
        "| Real     | Floar point (float) |\n"
      ],
      "metadata": {
        "id": "3v4HxjkVOwzz"
      }
    },
    {
      "cell_type": "markdown",
      "source": [
        "The *funtion* `type()` let's us check\n",
        "\n"
      ],
      "metadata": {
        "id": "P0TnqZu2QU6Q"
      }
    },
    {
      "cell_type": "code",
      "source": [
        "type(26.5)"
      ],
      "metadata": {
        "colab": {
          "base_uri": "https://localhost:8080/"
        },
        "id": "h6T2p7RtRu_j",
        "outputId": "d4986fcc-b12a-47c0-d875-b577607d31ac"
      },
      "execution_count": null,
      "outputs": [
        {
          "output_type": "execute_result",
          "data": {
            "text/plain": [
              "float"
            ]
          },
          "metadata": {},
          "execution_count": 5
        }
      ]
    }
  ]
}