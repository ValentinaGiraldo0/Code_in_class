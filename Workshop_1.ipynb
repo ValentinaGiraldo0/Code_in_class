{
  "nbformat": 4,
  "nbformat_minor": 0,
  "metadata": {
    "colab": {
      "name": "Workshop 1.ipynb",
      "provenance": [],
      "include_colab_link": true
    },
    "kernelspec": {
      "name": "python3",
      "display_name": "Python 3"
    },
    "language_info": {
      "name": "python"
    }
  },
  "cells": [
    {
      "cell_type": "markdown",
      "metadata": {
        "id": "view-in-github",
        "colab_type": "text"
      },
      "source": [
        "<a href=\"https://colab.research.google.com/github/ValentinaGiraldo0/Code_in_class/blob/main/Workshop_1.ipynb\" target=\"_parent\"><img src=\"https://colab.research.google.com/assets/colab-badge.svg\" alt=\"Open In Colab\"/></a>"
      ]
    },
    {
      "cell_type": "markdown",
      "source": [
        "<h1 align = \"center\">\n",
        "<strong> Universidad de La Salle </strong>\n",
        "</h1>\n",
        "\n",
        "<h1 align = \"center\">\n",
        "<strong> Finance and International Commerce Program </strong>\n",
        "</h1>\n",
        "\n",
        "<h1 align = \"center\">\n",
        "<strong> Data Visualization - Workshop 1 </strong>\n",
        "</h1>\n"
      ],
      "metadata": {
        "id": "BJolccUZSw9G"
      }
    },
    {
      "cell_type": "markdown",
      "source": [
        "# **Instructions**\n",
        "\n",
        "1. Please read carefully the document. Ask all the questions you may have.\n",
        "2. Save this file in your Google Drive.\n",
        "3. DO NOT alter any cell unless it specifically ask you to do it.\n",
        "4. You will have **two hours** (until 11am) maximum to finish and deliver this workshop.\n",
        "5. You can use any help you want: your notes, your codes, internet, classmates.\n",
        "6. Nevertheless, the workshop must be presented individually.\n",
        "7. Once you have finish, save a copy in your GitHub class repository.\n",
        "8. The deliver process is as follows:\n",
        "    \n",
        "    8.1. Via email you will send the link to the GitHub location.\n",
        "    \n",
        "    8.2. In the same mail, just for safety, you will attach a copy of your `.ipynb` file.\n",
        "    \n",
        "    8.3. The email must have the subject: \"W1 DV\".   "
      ],
      "metadata": {
        "id": "pLRc5RAyWsre"
      }
    },
    {
      "cell_type": "markdown",
      "source": [
        "# **To keep in mind**\n",
        "\n",
        "* The excercises propouse are intended to **push** you a little futher in your Pyton skills.\n",
        "* This means that there are going to be exercises above the level seen in class.\n",
        "* The idea is to incentive your creative thinking and solving problem skills.\n",
        "* As always there several ways to do the excersice. But in this case, I ask you to use only the tools we learned.\n",
        "* I ask you to trust me. Give your best effort. Grades do not matter here. "
      ],
      "metadata": {
        "id": "4QKdNKujZEbk"
      }
    },
    {
      "cell_type": "markdown",
      "source": [
        "# **Exercise Set**"
      ],
      "metadata": {
        "id": "2kRoSKUmaGl9"
      }
    },
    {
      "cell_type": "markdown",
      "source": [
        "## Ex 1.\n",
        "\n",
        "In the cell code below, first create a variable with your full name then write the appropiate code, using *sciling*, to print your full name as this:\n",
        "\n",
        "`First Name: José` &nbsp;   &nbsp;   &nbsp;   &nbsp;   &nbsp; `Middle Name: Rodrigo`\n",
        "\n",
        "`First Last  Name: Vélez` &nbsp;   &nbsp;   &nbsp;   &nbsp;   &nbsp; `Second Last Name: Molano`"
      ],
      "metadata": {
        "id": "LAdWe8iEaL7B"
      }
    },
    {
      "cell_type": "code",
      "execution_count": 30,
      "metadata": {
        "id": "rw792kISSt3n",
        "colab": {
          "base_uri": "https://localhost:8080/"
        },
        "outputId": "c3e1a466-f724-492f-edf3-8a0048977221"
      },
      "outputs": [
        {
          "output_type": "stream",
          "name": "stdout",
          "text": [
            "First Name: Lindsay \tMiddle Name: Valentina\n",
            "First Last Name: Giraldo \tSecond Last Name: Martínez\n"
          ]
        }
      ],
      "source": [
        "# Answ. Ex 1\n",
        "# (write your code below)\n",
        "Full_name='Lindsay Valentina Giraldo Martínez'\n",
        "print('First Name:', Full_name[0:7],'\\tMiddle Name:', Full_name[8:17])\n",
        "print('First Last Name:', Full_name[18:25],'\\tSecond Last Name:', Full_name[26:34])\n",
        "\n"
      ]
    },
    {
      "cell_type": "markdown",
      "source": [
        "## Ex 2.\n",
        "\n",
        "In the cell code below, you are given two random numbers `x` and `y`. \n",
        "\n",
        "Write the appropiate code to print the result of dividing `x` by all its precedents rounded by `y` decimal positions.\n",
        "\n",
        "This is an example of the expected result for `x = 15` and `y = 2`:\n",
        "\n",
        "`15 / 1 = 15.00`\n",
        "\n",
        "`15 / 2 = 7.50`\n",
        "\n",
        "`15 / 3 = 5.00`\n",
        "\n",
        "`...`\n",
        "\n",
        "`15 / 15 = 1.00`\n",
        "\n",
        "**JUST IN CASE!** You must use the variables given to you"
      ],
      "metadata": {
        "id": "YFsGiwcNfgzP"
      }
    },
    {
      "cell_type": "code",
      "source": [
        "# Answ. Ex 2 \n",
        "###################################\n",
        "#      DO NOT MODIFY THIS PART    #\n",
        "import numpy as np\n",
        "x = round(np.random.uniform(12,22))\n",
        "y = round(np.random.uniform(1,4))\n",
        "###################################\n",
        "\n",
        "# (write your code below)\n",
        "\n",
        "print('Division table of',x, ':')\n",
        "for i in range (1,x+1): print(x,'/',i,'=',round(x/i,y))"
      ],
      "metadata": {
        "id": "Dwdsh30Ti3vl",
        "colab": {
          "base_uri": "https://localhost:8080/"
        },
        "outputId": "248f65b8-2b10-4f78-ccf6-07295afa6c2e"
      },
      "execution_count": 50,
      "outputs": [
        {
          "output_type": "stream",
          "name": "stdout",
          "text": [
            "Division table of 13 :\n",
            "13 / 1 = 13.0\n",
            "13 / 2 = 6.5\n",
            "13 / 3 = 4.3\n",
            "13 / 4 = 3.2\n",
            "13 / 5 = 2.6\n",
            "13 / 6 = 2.2\n",
            "13 / 7 = 1.9\n",
            "13 / 8 = 1.6\n",
            "13 / 9 = 1.4\n",
            "13 / 10 = 1.3\n",
            "13 / 11 = 1.2\n",
            "13 / 12 = 1.1\n",
            "13 / 13 = 1.0\n"
          ]
        }
      ]
    },
    {
      "cell_type": "markdown",
      "source": [
        "## Ex 3. \n",
        "\n",
        "The Fibonnaci sequence is a sequence constructed by the process:\n",
        "\n",
        "$x_{i} = x_{i-1} + x_{i-2}$\n",
        "\n",
        "where $x_{1} = x_{2} = 1$.\n",
        "\n",
        "Below you are given a random number `z`, write the appropiate code to calculate and print the `z`th position of the Fibonnaci sequence. \n",
        "\n",
        "\n"
      ],
      "metadata": {
        "id": "PYIRNu3imJ_n"
      }
    },
    {
      "cell_type": "code",
      "source": [
        "# Answ. Ex 3\n",
        "###################################\n",
        "#      DO NOT MODIFY THIS PART    #\n",
        "import numpy as np\n",
        "z = round(np.random.uniform(50,100))\n",
        "###################################\n",
        "\n",
        "# (write your code below)\n",
        "for i in range (1,3): print('Position',i,':',1)\n",
        "for i in range (3,z+1): print('Position',i,':',i+i)\n"
      ],
      "metadata": {
        "id": "wntlZUatp9uE",
        "colab": {
          "base_uri": "https://localhost:8080/"
        },
        "outputId": "e92b3731-ed04-4c00-fbc2-5bcc013e8698"
      },
      "execution_count": 85,
      "outputs": [
        {
          "output_type": "stream",
          "name": "stdout",
          "text": [
            "Position 1 : 1\n",
            "Position 2 : 1\n",
            "Position 3 : 6\n",
            "Position 4 : 8\n",
            "Position 5 : 10\n",
            "Position 6 : 12\n",
            "Position 7 : 14\n",
            "Position 8 : 16\n",
            "Position 9 : 18\n",
            "Position 10 : 20\n",
            "Position 11 : 22\n",
            "Position 12 : 24\n",
            "Position 13 : 26\n",
            "Position 14 : 28\n",
            "Position 15 : 30\n",
            "Position 16 : 32\n",
            "Position 17 : 34\n",
            "Position 18 : 36\n",
            "Position 19 : 38\n",
            "Position 20 : 40\n",
            "Position 21 : 42\n",
            "Position 22 : 44\n",
            "Position 23 : 46\n",
            "Position 24 : 48\n",
            "Position 25 : 50\n",
            "Position 26 : 52\n",
            "Position 27 : 54\n",
            "Position 28 : 56\n",
            "Position 29 : 58\n",
            "Position 30 : 60\n",
            "Position 31 : 62\n",
            "Position 32 : 64\n",
            "Position 33 : 66\n",
            "Position 34 : 68\n",
            "Position 35 : 70\n",
            "Position 36 : 72\n",
            "Position 37 : 74\n",
            "Position 38 : 76\n",
            "Position 39 : 78\n",
            "Position 40 : 80\n",
            "Position 41 : 82\n",
            "Position 42 : 84\n",
            "Position 43 : 86\n",
            "Position 44 : 88\n",
            "Position 45 : 90\n",
            "Position 46 : 92\n",
            "Position 47 : 94\n",
            "Position 48 : 96\n",
            "Position 49 : 98\n",
            "Position 50 : 100\n",
            "Position 51 : 102\n",
            "Position 52 : 104\n",
            "Position 53 : 106\n",
            "Position 54 : 108\n",
            "Position 55 : 110\n",
            "Position 56 : 112\n",
            "Position 57 : 114\n",
            "Position 58 : 116\n",
            "Position 59 : 118\n",
            "Position 60 : 120\n",
            "Position 61 : 122\n",
            "Position 62 : 124\n",
            "Position 63 : 126\n",
            "Position 64 : 128\n",
            "Position 65 : 130\n",
            "Position 66 : 132\n",
            "Position 67 : 134\n",
            "Position 68 : 136\n",
            "Position 69 : 138\n",
            "Position 70 : 140\n",
            "Position 71 : 142\n",
            "Position 72 : 144\n",
            "Position 73 : 146\n",
            "Position 74 : 148\n",
            "Position 75 : 150\n",
            "Position 76 : 152\n",
            "Position 77 : 154\n",
            "Position 78 : 156\n",
            "Position 79 : 158\n",
            "Position 80 : 160\n",
            "Position 81 : 162\n",
            "Position 82 : 164\n",
            "Position 83 : 166\n",
            "Position 84 : 168\n",
            "Position 85 : 170\n",
            "Position 86 : 172\n",
            "Position 87 : 174\n",
            "Position 88 : 176\n",
            "Position 89 : 178\n",
            "Position 90 : 180\n",
            "Position 91 : 182\n",
            "Position 92 : 184\n",
            "Position 93 : 186\n"
          ]
        }
      ]
    },
    {
      "cell_type": "markdown",
      "source": [
        "## Ex 4.\n",
        "\n",
        "Create a string variable with the name of your favorite music artist or group.Write the appropiate code to print it in reversed order.\n",
        "\n",
        "*Example:*\n",
        "\n",
        "`w = 'Dog'`\n",
        "\n",
        "Expected result: `'goD'`.\n",
        "\n",
        "\n",
        "\n"
      ],
      "metadata": {
        "id": "2t2WnRieqLoc"
      }
    },
    {
      "cell_type": "code",
      "source": [
        "# Answ. Ex 4\n",
        "# (write your code below)\n",
        "z ='Sofia Vergara'\n",
        "print('last element of z:' , z[0:13])\n"
      ],
      "metadata": {
        "id": "FQU_vc_5sse0",
        "colab": {
          "base_uri": "https://localhost:8080/"
        },
        "outputId": "ee2d41f4-0fcb-4364-f156-e073b1e950c5"
      },
      "execution_count": 53,
      "outputs": [
        {
          "output_type": "stream",
          "name": "stdout",
          "text": [
            "last element of z: Sofia Vergara\n"
          ]
        }
      ]
    }
  ]
}