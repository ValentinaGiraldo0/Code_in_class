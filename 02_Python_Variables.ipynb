{
  "nbformat": 4,
  "nbformat_minor": 0,
  "metadata": {
    "colab": {
      "name": "02. Python Variables.ipynb",
      "provenance": [],
      "authorship_tag": "ABX9TyOzYHjRZVakMI/M+n9jcp4W",
      "include_colab_link": true
    },
    "kernelspec": {
      "name": "python3",
      "display_name": "Python 3"
    },
    "language_info": {
      "name": "python"
    }
  },
  "cells": [
    {
      "cell_type": "markdown",
      "metadata": {
        "id": "view-in-github",
        "colab_type": "text"
      },
      "source": [
        "<a href=\"https://colab.research.google.com/github/ValentinaGiraldo0/Code_in_class/blob/main/02_Python_Variables.ipynb\" target=\"_parent\"><img src=\"https://colab.research.google.com/assets/colab-badge.svg\" alt=\"Open In Colab\"/></a>"
      ]
    },
    {
      "cell_type": "markdown",
      "source": [
        "# **1. What is a variable?**\n",
        "\n",
        "*Container*, **stores** values"
      ],
      "metadata": {
        "id": "lOkUqOHAkQmu"
      }
    },
    {
      "cell_type": "markdown",
      "source": [
        "# **2. Declaration and Assigment**"
      ],
      "metadata": {
        "id": "ZcEBrV2hkmzO"
      }
    },
    {
      "cell_type": "code",
      "source": [
        "## Example option\n",
        "a= 4"
      ],
      "metadata": {
        "id": "gCt7eIMVoIIe"
      },
      "execution_count": null,
      "outputs": []
    },
    {
      "cell_type": "code",
      "source": [
        "# Example\n",
        "at= 4"
      ],
      "metadata": {
        "id": "0gFs1PVfoRTm"
      },
      "execution_count": null,
      "outputs": []
    },
    {
      "cell_type": "code",
      "source": [
        "# Example using variable \n",
        "print(a+1)"
      ],
      "metadata": {
        "colab": {
          "base_uri": "https://localhost:8080/"
        },
        "id": "m9m9rwBNoXEC",
        "outputId": "541f3d01-3156-4c84-ceab-750fd1c4b50a"
      },
      "execution_count": null,
      "outputs": [
        {
          "output_type": "stream",
          "name": "stdout",
          "text": [
            "5\n"
          ]
        }
      ]
    },
    {
      "cell_type": "code",
      "source": [
        "# Example \n",
        "x = y = z = 100\n",
        "print(x,y,z)"
      ],
      "metadata": {
        "colab": {
          "base_uri": "https://localhost:8080/"
        },
        "id": "JfaT0A33oe8p",
        "outputId": "284cb6a7-0c56-4638-ec3a-9b074fd7dc7d"
      },
      "execution_count": null,
      "outputs": [
        {
          "output_type": "stream",
          "name": "stdout",
          "text": [
            "100 100 100\n"
          ]
        }
      ]
    },
    {
      "cell_type": "markdown",
      "source": [
        "## **3. Delete and clear**\n"
      ],
      "metadata": {
        "id": "MA0Ch3QDoz2l"
      }
    },
    {
      "cell_type": "code",
      "source": [
        "# Example \n",
        "age= 20\n",
        "del age"
      ],
      "metadata": {
        "id": "WWZuJrc1o6ps"
      },
      "execution_count": null,
      "outputs": []
    },
    {
      "cell_type": "code",
      "source": [
        "# Example deletting a list of variable\n",
        "del a,at"
      ],
      "metadata": {
        "id": "9ty_MVXapO7z"
      },
      "execution_count": null,
      "outputs": []
    },
    {
      "cell_type": "code",
      "source": [
        "# Example erase or clear all variables\n",
        "%reset"
      ],
      "metadata": {
        "colab": {
          "base_uri": "https://localhost:8080/"
        },
        "id": "OzM4qzUTpVl3",
        "outputId": "ce5aa6be-f9e1-40f4-bdb1-08ca92bbfd96"
      },
      "execution_count": null,
      "outputs": [
        {
          "name": "stdout",
          "output_type": "stream",
          "text": [
            "Once deleted, variables cannot be recovered. Proceed (y/[n])? y\n"
          ]
        }
      ]
    },
    {
      "cell_type": "code",
      "source": [
        "# Loops with variables\n",
        "x= 7.2345\n",
        "for i in range(0,4): print('round whith' ,i,'decimals:', round(x,i))"
      ],
      "metadata": {
        "colab": {
          "base_uri": "https://localhost:8080/"
        },
        "id": "wRwgA_mUpm6i",
        "outputId": "f909e18c-4d6f-44ca-b658-244adafc6966"
      },
      "execution_count": null,
      "outputs": [
        {
          "output_type": "stream",
          "name": "stdout",
          "text": [
            "round whith 0 decimals: 7.0\n",
            "round whith 1 decimals: 7.2\n",
            "round whith 2 decimals: 7.23\n",
            "round whith 3 decimals: 7.234\n"
          ]
        }
      ]
    },
    {
      "cell_type": "code",
      "source": [
        "# Loops with variables #2\n",
        "y = 15\n",
        "print('This is the list of the 100th multiples of',y,':') \n",
        "for i in range (1,101): print('position:',i,'multiple:',y*i)"
      ],
      "metadata": {
        "colab": {
          "base_uri": "https://localhost:8080/"
        },
        "id": "wFwE4LoOqtBM",
        "outputId": "77cd218a-5e55-4e26-f1f0-da8ece9a8892"
      },
      "execution_count": null,
      "outputs": [
        {
          "output_type": "stream",
          "name": "stdout",
          "text": [
            "This is the list of the 100th multiples of 15 :\n",
            "position: 1 multiple: 15\n",
            "position: 2 multiple: 30\n",
            "position: 3 multiple: 45\n",
            "position: 4 multiple: 60\n",
            "position: 5 multiple: 75\n",
            "position: 6 multiple: 90\n",
            "position: 7 multiple: 105\n",
            "position: 8 multiple: 120\n",
            "position: 9 multiple: 135\n",
            "position: 10 multiple: 150\n",
            "position: 11 multiple: 165\n",
            "position: 12 multiple: 180\n",
            "position: 13 multiple: 195\n",
            "position: 14 multiple: 210\n",
            "position: 15 multiple: 225\n",
            "position: 16 multiple: 240\n",
            "position: 17 multiple: 255\n",
            "position: 18 multiple: 270\n",
            "position: 19 multiple: 285\n",
            "position: 20 multiple: 300\n",
            "position: 21 multiple: 315\n",
            "position: 22 multiple: 330\n",
            "position: 23 multiple: 345\n",
            "position: 24 multiple: 360\n",
            "position: 25 multiple: 375\n",
            "position: 26 multiple: 390\n",
            "position: 27 multiple: 405\n",
            "position: 28 multiple: 420\n",
            "position: 29 multiple: 435\n",
            "position: 30 multiple: 450\n",
            "position: 31 multiple: 465\n",
            "position: 32 multiple: 480\n",
            "position: 33 multiple: 495\n",
            "position: 34 multiple: 510\n",
            "position: 35 multiple: 525\n",
            "position: 36 multiple: 540\n",
            "position: 37 multiple: 555\n",
            "position: 38 multiple: 570\n",
            "position: 39 multiple: 585\n",
            "position: 40 multiple: 600\n",
            "position: 41 multiple: 615\n",
            "position: 42 multiple: 630\n",
            "position: 43 multiple: 645\n",
            "position: 44 multiple: 660\n",
            "position: 45 multiple: 675\n",
            "position: 46 multiple: 690\n",
            "position: 47 multiple: 705\n",
            "position: 48 multiple: 720\n",
            "position: 49 multiple: 735\n",
            "position: 50 multiple: 750\n",
            "position: 51 multiple: 765\n",
            "position: 52 multiple: 780\n",
            "position: 53 multiple: 795\n",
            "position: 54 multiple: 810\n",
            "position: 55 multiple: 825\n",
            "position: 56 multiple: 840\n",
            "position: 57 multiple: 855\n",
            "position: 58 multiple: 870\n",
            "position: 59 multiple: 885\n",
            "position: 60 multiple: 900\n",
            "position: 61 multiple: 915\n",
            "position: 62 multiple: 930\n",
            "position: 63 multiple: 945\n",
            "position: 64 multiple: 960\n",
            "position: 65 multiple: 975\n",
            "position: 66 multiple: 990\n",
            "position: 67 multiple: 1005\n",
            "position: 68 multiple: 1020\n",
            "position: 69 multiple: 1035\n",
            "position: 70 multiple: 1050\n",
            "position: 71 multiple: 1065\n",
            "position: 72 multiple: 1080\n",
            "position: 73 multiple: 1095\n",
            "position: 74 multiple: 1110\n",
            "position: 75 multiple: 1125\n",
            "position: 76 multiple: 1140\n",
            "position: 77 multiple: 1155\n",
            "position: 78 multiple: 1170\n",
            "position: 79 multiple: 1185\n",
            "position: 80 multiple: 1200\n",
            "position: 81 multiple: 1215\n",
            "position: 82 multiple: 1230\n",
            "position: 83 multiple: 1245\n",
            "position: 84 multiple: 1260\n",
            "position: 85 multiple: 1275\n",
            "position: 86 multiple: 1290\n",
            "position: 87 multiple: 1305\n",
            "position: 88 multiple: 1320\n",
            "position: 89 multiple: 1335\n",
            "position: 90 multiple: 1350\n",
            "position: 91 multiple: 1365\n",
            "position: 92 multiple: 1380\n",
            "position: 93 multiple: 1395\n",
            "position: 94 multiple: 1410\n",
            "position: 95 multiple: 1425\n",
            "position: 96 multiple: 1440\n",
            "position: 97 multiple: 1455\n",
            "position: 98 multiple: 1470\n",
            "position: 99 multiple: 1485\n",
            "position: 100 multiple: 1500\n"
          ]
        }
      ]
    },
    {
      "cell_type": "markdown",
      "source": [
        "# **4. Naming**"
      ],
      "metadata": {
        "id": "G0Yg9lRnpOoc"
      }
    },
    {
      "cell_type": "markdown",
      "source": [
        "## 4.1 Conditions and Restrictions\n",
        "\n",
        "The names must have only alphanumeric characteres\n",
        "((from `0 to 1`, `a to z`, `A to Z `) and underscore `_`.\n",
        "\n",
        "**WARNING** a variable name MUST noy beginwith a number."
      ],
      "metadata": {
        "id": "TRulK8OyLKxM"
      }
    },
    {
      "cell_type": "code",
      "source": [
        "## Example \n",
        "my_age = 100\n",
        "person1 = 'me'"
      ],
      "metadata": {
        "id": "zMBDRj-MPEQO"
      },
      "execution_count": 14,
      "outputs": []
    },
    {
      "cell_type": "markdown",
      "source": [
        "## 4.2. Best Practices\n",
        "\n",
        "* Variables are case sentitive"
      ],
      "metadata": {
        "id": "ZcwuQYIgKjxu"
      }
    },
    {
      "cell_type": "code",
      "source": [
        "# Example\n",
        "\n",
        "age = 12\n",
        "age = 13\n",
        "AGE = 14\n"
      ],
      "metadata": {
        "id": "RSDqK2ZpKu4F"
      },
      "execution_count": 1,
      "outputs": []
    },
    {
      "cell_type": "markdown",
      "source": [
        "The best practice in Python is to used lower case"
      ],
      "metadata": {
        "id": "nWO7jAuqLgJ7"
      }
    },
    {
      "cell_type": "markdown",
      "source": [
        "* Composite names"
      ],
      "metadata": {
        "id": "AA2V7YzHLl0T"
      }
    },
    {
      "cell_type": "code",
      "source": [
        "# Example \n",
        "book_price = 100\n",
        "book_quant = 20"
      ],
      "metadata": {
        "id": "fAmsPBy8LpDj"
      },
      "execution_count": 2,
      "outputs": []
    },
    {
      "cell_type": "markdown",
      "source": [
        "* Use meaingful names\n",
        "\n",
        "Names should tell you something "
      ],
      "metadata": {
        "id": "mPZxGZU6MBbz"
      }
    },
    {
      "cell_type": "code",
      "source": [
        "stock_price = 25"
      ],
      "metadata": {
        "id": "9nQJzf4kMJs7"
      },
      "execution_count": 3,
      "outputs": []
    },
    {
      "cell_type": "markdown",
      "source": [
        "# **5. Data types**"
      ],
      "metadata": {
        "id": "1IsxGKv3MoGr"
      }
    },
    {
      "cell_type": "markdown",
      "source": [
        "## 5.1 Integers"
      ],
      "metadata": {
        "id": "osiotOe4Mvj7"
      }
    },
    {
      "cell_type": "code",
      "source": [
        "stock_price = 25\n",
        "print (type(stock_price))"
      ],
      "metadata": {
        "colab": {
          "base_uri": "https://localhost:8080/"
        },
        "id": "UHZbryoDM0N7",
        "outputId": "0afda226-ac50-412b-daca-0e824b1408bf"
      },
      "execution_count": 4,
      "outputs": [
        {
          "output_type": "stream",
          "name": "stdout",
          "text": [
            "<class 'int'>\n"
          ]
        }
      ]
    },
    {
      "cell_type": "markdown",
      "source": [
        "## 5.2 Float"
      ],
      "metadata": {
        "id": "qgrN6WabM8as"
      }
    },
    {
      "cell_type": "code",
      "source": [
        "stock_price = 25.45\n",
        "print (type(stock_price))"
      ],
      "metadata": {
        "colab": {
          "base_uri": "https://localhost:8080/"
        },
        "id": "7Z5dfuFYM-gE",
        "outputId": "ba015fbe-a5c1-48c6-e0da-4d003f24605b"
      },
      "execution_count": 5,
      "outputs": [
        {
          "output_type": "stream",
          "name": "stdout",
          "text": [
            "<class 'float'>\n"
          ]
        }
      ]
    },
    {
      "cell_type": "markdown",
      "source": [
        "### Python as a calculator"
      ],
      "metadata": {
        "id": "G1hssDu4NDYs"
      }
    },
    {
      "cell_type": "code",
      "source": [
        "# Example\n",
        "x = 3\n",
        "y = 4\n",
        "z = 5\n",
        "print('x + y =', x + y)\n",
        "print('x * z =', x + z)"
      ],
      "metadata": {
        "colab": {
          "base_uri": "https://localhost:8080/"
        },
        "id": "JFhP8kvQNYSL",
        "outputId": "91617916-8cd1-4dd9-cebd-82c93a1b0db6"
      },
      "execution_count": 9,
      "outputs": [
        {
          "output_type": "stream",
          "name": "stdout",
          "text": [
            "x + y = 7\n",
            "x * z = 8\n"
          ]
        }
      ]
    },
    {
      "cell_type": "markdown",
      "source": [
        "### Let's try a nice trick"
      ],
      "metadata": {
        "id": "I13IAfmIOBjt"
      }
    },
    {
      "cell_type": "code",
      "source": [
        "# Nice Trick\n",
        "w = 0"
      ],
      "metadata": {
        "id": "KiQYCvKHOGkm"
      },
      "execution_count": 10,
      "outputs": []
    },
    {
      "cell_type": "code",
      "source": [
        "# Nice Trick\n",
        "w += 2\n",
        "print(w)"
      ],
      "metadata": {
        "colab": {
          "base_uri": "https://localhost:8080/"
        },
        "id": "Oe1Nku0AOKqW",
        "outputId": "b11527ae-f293-4778-c358-c3c7a2552f82"
      },
      "execution_count": 28,
      "outputs": [
        {
          "output_type": "stream",
          "name": "stdout",
          "text": [
            "12\n"
          ]
        }
      ]
    },
    {
      "cell_type": "markdown",
      "source": [
        "## 5.3. Booleans \n",
        "\n",
        "These are variables with values of `True` OR `False`"
      ],
      "metadata": {
        "id": "niWnjDTaPP3M"
      }
    },
    {
      "cell_type": "code",
      "source": [
        "# Example \n",
        "\n",
        "is_sunny = True\n",
        "print(type(is_sunny))"
      ],
      "metadata": {
        "colab": {
          "base_uri": "https://localhost:8080/"
        },
        "id": "edwXHlI7PbRt",
        "outputId": "47575b81-e6b2-4e90-81b6-614ad046a8fc"
      },
      "execution_count": 19,
      "outputs": [
        {
          "output_type": "stream",
          "name": "stdout",
          "text": [
            "<class 'bool'>\n"
          ]
        }
      ]
    },
    {
      "cell_type": "markdown",
      "source": [
        "More important are **BOOLEAB EXORESSIONS**"
      ],
      "metadata": {
        "id": "Z_3sslP_QBgF"
      }
    },
    {
      "cell_type": "code",
      "source": [
        "# Example\n",
        "x = 2\n",
        "y = 3\n",
        "\n",
        "print('is x equals to y?', x ==y)\n",
        "print('is x NOT equals to y?', x != y)\n",
        "print('is x greater y?', x > y)\n",
        "print('is x less than y?', x < y)\n"
      ],
      "metadata": {
        "colab": {
          "base_uri": "https://localhost:8080/"
        },
        "id": "kNhyHh4yQGFd",
        "outputId": "48730c81-85c2-4298-d3fa-3330c763f9cc"
      },
      "execution_count": 22,
      "outputs": [
        {
          "output_type": "stream",
          "name": "stdout",
          "text": [
            "is x equals to y? False\n",
            "is x NOT equals to y? True\n",
            "is x greater y? False\n",
            "is x less than y? True\n"
          ]
        }
      ]
    },
    {
      "cell_type": "code",
      "source": [
        "# Practice - hard mode!\n",
        "\n",
        "# Using loops, you are going to evaluate the b_e\n",
        "# x+y >  x*y\n",
        "# For x =) 1,2,3,...,10\n",
        "#     y = 11,12,13,...20\n",
        "\n",
        "# A Solution\n",
        "\n",
        "print('Is x + y > x * y?') \n",
        "for x in range (1,11): \n",
        "  for y in range (11,21):\n",
        "    print('Is',x, '+',y, '>', x, '*',y, '?' ,x + y > x * y)"
      ],
      "metadata": {
        "colab": {
          "base_uri": "https://localhost:8080/"
        },
        "id": "M7GoQL1XRZ7r",
        "outputId": "64559603-977a-4f10-b89e-7c4053b0cc3c"
      },
      "execution_count": 35,
      "outputs": [
        {
          "output_type": "stream",
          "name": "stdout",
          "text": [
            "Is x + y > x * y?\n",
            "Is 1 + 11 > 1 * 11 ? True\n",
            "Is 1 + 12 > 1 * 12 ? True\n",
            "Is 1 + 13 > 1 * 13 ? True\n",
            "Is 1 + 14 > 1 * 14 ? True\n",
            "Is 1 + 15 > 1 * 15 ? True\n",
            "Is 1 + 16 > 1 * 16 ? True\n",
            "Is 1 + 17 > 1 * 17 ? True\n",
            "Is 1 + 18 > 1 * 18 ? True\n",
            "Is 1 + 19 > 1 * 19 ? True\n",
            "Is 1 + 20 > 1 * 20 ? True\n",
            "Is 2 + 11 > 2 * 11 ? False\n",
            "Is 2 + 12 > 2 * 12 ? False\n",
            "Is 2 + 13 > 2 * 13 ? False\n",
            "Is 2 + 14 > 2 * 14 ? False\n",
            "Is 2 + 15 > 2 * 15 ? False\n",
            "Is 2 + 16 > 2 * 16 ? False\n",
            "Is 2 + 17 > 2 * 17 ? False\n",
            "Is 2 + 18 > 2 * 18 ? False\n",
            "Is 2 + 19 > 2 * 19 ? False\n",
            "Is 2 + 20 > 2 * 20 ? False\n",
            "Is 3 + 11 > 3 * 11 ? False\n",
            "Is 3 + 12 > 3 * 12 ? False\n",
            "Is 3 + 13 > 3 * 13 ? False\n",
            "Is 3 + 14 > 3 * 14 ? False\n",
            "Is 3 + 15 > 3 * 15 ? False\n",
            "Is 3 + 16 > 3 * 16 ? False\n",
            "Is 3 + 17 > 3 * 17 ? False\n",
            "Is 3 + 18 > 3 * 18 ? False\n",
            "Is 3 + 19 > 3 * 19 ? False\n",
            "Is 3 + 20 > 3 * 20 ? False\n",
            "Is 4 + 11 > 4 * 11 ? False\n",
            "Is 4 + 12 > 4 * 12 ? False\n",
            "Is 4 + 13 > 4 * 13 ? False\n",
            "Is 4 + 14 > 4 * 14 ? False\n",
            "Is 4 + 15 > 4 * 15 ? False\n",
            "Is 4 + 16 > 4 * 16 ? False\n",
            "Is 4 + 17 > 4 * 17 ? False\n",
            "Is 4 + 18 > 4 * 18 ? False\n",
            "Is 4 + 19 > 4 * 19 ? False\n",
            "Is 4 + 20 > 4 * 20 ? False\n",
            "Is 5 + 11 > 5 * 11 ? False\n",
            "Is 5 + 12 > 5 * 12 ? False\n",
            "Is 5 + 13 > 5 * 13 ? False\n",
            "Is 5 + 14 > 5 * 14 ? False\n",
            "Is 5 + 15 > 5 * 15 ? False\n",
            "Is 5 + 16 > 5 * 16 ? False\n",
            "Is 5 + 17 > 5 * 17 ? False\n",
            "Is 5 + 18 > 5 * 18 ? False\n",
            "Is 5 + 19 > 5 * 19 ? False\n",
            "Is 5 + 20 > 5 * 20 ? False\n",
            "Is 6 + 11 > 6 * 11 ? False\n",
            "Is 6 + 12 > 6 * 12 ? False\n",
            "Is 6 + 13 > 6 * 13 ? False\n",
            "Is 6 + 14 > 6 * 14 ? False\n",
            "Is 6 + 15 > 6 * 15 ? False\n",
            "Is 6 + 16 > 6 * 16 ? False\n",
            "Is 6 + 17 > 6 * 17 ? False\n",
            "Is 6 + 18 > 6 * 18 ? False\n",
            "Is 6 + 19 > 6 * 19 ? False\n",
            "Is 6 + 20 > 6 * 20 ? False\n",
            "Is 7 + 11 > 7 * 11 ? False\n",
            "Is 7 + 12 > 7 * 12 ? False\n",
            "Is 7 + 13 > 7 * 13 ? False\n",
            "Is 7 + 14 > 7 * 14 ? False\n",
            "Is 7 + 15 > 7 * 15 ? False\n",
            "Is 7 + 16 > 7 * 16 ? False\n",
            "Is 7 + 17 > 7 * 17 ? False\n",
            "Is 7 + 18 > 7 * 18 ? False\n",
            "Is 7 + 19 > 7 * 19 ? False\n",
            "Is 7 + 20 > 7 * 20 ? False\n",
            "Is 8 + 11 > 8 * 11 ? False\n",
            "Is 8 + 12 > 8 * 12 ? False\n",
            "Is 8 + 13 > 8 * 13 ? False\n",
            "Is 8 + 14 > 8 * 14 ? False\n",
            "Is 8 + 15 > 8 * 15 ? False\n",
            "Is 8 + 16 > 8 * 16 ? False\n",
            "Is 8 + 17 > 8 * 17 ? False\n",
            "Is 8 + 18 > 8 * 18 ? False\n",
            "Is 8 + 19 > 8 * 19 ? False\n",
            "Is 8 + 20 > 8 * 20 ? False\n",
            "Is 9 + 11 > 9 * 11 ? False\n",
            "Is 9 + 12 > 9 * 12 ? False\n",
            "Is 9 + 13 > 9 * 13 ? False\n",
            "Is 9 + 14 > 9 * 14 ? False\n",
            "Is 9 + 15 > 9 * 15 ? False\n",
            "Is 9 + 16 > 9 * 16 ? False\n",
            "Is 9 + 17 > 9 * 17 ? False\n",
            "Is 9 + 18 > 9 * 18 ? False\n",
            "Is 9 + 19 > 9 * 19 ? False\n",
            "Is 9 + 20 > 9 * 20 ? False\n",
            "Is 10 + 11 > 10 * 11 ? False\n",
            "Is 10 + 12 > 10 * 12 ? False\n",
            "Is 10 + 13 > 10 * 13 ? False\n",
            "Is 10 + 14 > 10 * 14 ? False\n",
            "Is 10 + 15 > 10 * 15 ? False\n",
            "Is 10 + 16 > 10 * 16 ? False\n",
            "Is 10 + 17 > 10 * 17 ? False\n",
            "Is 10 + 18 > 10 * 18 ? False\n",
            "Is 10 + 19 > 10 * 19 ? False\n",
            "Is 10 + 20 > 10 * 20 ? False\n"
          ]
        }
      ]
    }
  ]
}