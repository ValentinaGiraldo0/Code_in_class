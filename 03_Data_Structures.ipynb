{
  "nbformat": 4,
  "nbformat_minor": 0,
  "metadata": {
    "colab": {
      "provenance": [],
      "authorship_tag": "ABX9TyM/BTclw8cwsVXohP/WNBa5",
      "include_colab_link": true
    },
    "kernelspec": {
      "name": "python3",
      "display_name": "Python 3"
    },
    "language_info": {
      "name": "python"
    }
  },
  "cells": [
    {
      "cell_type": "markdown",
      "metadata": {
        "id": "view-in-github",
        "colab_type": "text"
      },
      "source": [
        "<a href=\"https://colab.research.google.com/github/ValentinaGiraldo0/Code_in_class/blob/main/03_Data_Structures.ipynb\" target=\"_parent\"><img src=\"https://colab.research.google.com/assets/colab-badge.svg\" alt=\"Open In Colab\"/></a>"
      ]
    },
    {
      "cell_type": "markdown",
      "source": [
        "# **1. What us a data structure?**\n",
        "\n",
        "DS are like variable, they *save* information. The difference is that DS can store more than 1 value.\n",
        "\n",
        "Formally, DS store a **sequence** of values which can be located with an index \n",
        "(sciling). Ex: List, vectors and matrices, databases.\n",
        "\n",
        "Now, basic Python sucks!! It lacks specialized tools, In this case, we need to install `numpy`."
      ],
      "metadata": {
        "id": "_ySWrhVxTefc"
      }
    },
    {
      "cell_type": "markdown",
      "source": [
        "# **2. Linear Algebra - Numpy**\n"
      ],
      "metadata": {
        "id": "GdJCeCZiU3Lk"
      }
    },
    {
      "cell_type": "markdown",
      "source": [
        "## 2.1. **What is Numpy?**\n",
        "\n",
        "Numpy (or Numerical Python) is collection of functions and methods to handle DS. \n",
        "\n",
        "This library works very well with other libraries and it is very popular."
      ],
      "metadata": {
        "id": "41ej-tI9Wzbq"
      }
    },
    {
      "cell_type": "code",
      "source": [
        "# Install a library \n",
        "\n",
        "import numpy as np"
      ],
      "metadata": {
        "id": "CKkIW2E5V0wz"
      },
      "execution_count": 4,
      "outputs": []
    },
    {
      "cell_type": "markdown",
      "source": [
        "## 2.2. Numpy arrays - vector and matrices\n",
        "\n",
        "Objects arranged by row and columns. With these object you can sum and multiply.\n",
        "\n",
        "*Example 1*\n",
        "\n",
        "Let $b$ be a vector with 2 rows and 1 column:\n",
        "\n",
        "\\begin{equation}\n",
        "a = \\left[\\begin{array}{c} a_{1} \\\\ a_{2}\n",
        "    \\end{array}\\right]\n",
        "\\end{equation}\n",
        "\n",
        "This is called a **COLUMN VECTOR**. And the dimension or shape is $(2,1)$ or $(2 \\times 1)$\n",
        "\n",
        "\n",
        "\n",
        "*Example 2*\n",
        "\n",
        "Let $b$ be a vector with 1 rows and 2 column:\n",
        "\n",
        "\\begin{equation}\n",
        "b = \\left[\\begin{array}{c} b_{1} & b_{2}\n",
        "    \\end{array}\\right]\n",
        "\\end{equation}\n",
        "\n",
        "This is called a **ROW VECTOR**. And the dimension or shape is $(1,2)$ or $(1 \\times 2)$\n",
        "\n",
        "\n",
        "*Example 3*\n",
        "\n",
        "A matrix has more than 1 row and more than column.\n",
        "\n",
        "Of course if the number rows and columns are equal, it is called a *squared matrix*.\n",
        "\n",
        "In general, let $M$ be a matrix of dimensions $(n,m)$ or $(n \\times m)$.\n",
        "\n",
        "For the case of $n=3$ and $m=3$:\n",
        "\n",
        "\\begin{equation}\n",
        "M = \\left[\\begin{array}{c}\n",
        "m_{1,1} & m_{1,2} & m_{1,3} \\\\\n",
        "m_{2,1} & m_{2,2} & m_{2,3} \\\\\n",
        "m_{3,1} & m_{3,2} & m_{3,3} \\\\\n",
        "    \\end{array}\\right]\n",
        "\\end{equation}\n",
        "\n",
        "\n",
        "Now, all of this "
      ],
      "metadata": {
        "id": "H_dP0t68WlEb"
      }
    },
    {
      "cell_type": "code",
      "source": [
        "# Example - Column Vector \n",
        "\n",
        "a = np.array([[4],[5],[6]])\n",
        "print(a)\n",
        "print(a.shape)"
      ],
      "metadata": {
        "colab": {
          "base_uri": "https://localhost:8080/"
        },
        "id": "eQgYKASJc24J",
        "outputId": "2d36763f-12f9-4b52-e799-05c85f1d59df"
      },
      "execution_count": null,
      "outputs": [
        {
          "output_type": "stream",
          "name": "stdout",
          "text": [
            "[[4]\n",
            " [5]\n",
            " [6]]\n",
            "(3, 1)\n"
          ]
        }
      ]
    },
    {
      "cell_type": "code",
      "source": [
        "# Example - Row Vector \n",
        "\n",
        "b = np.array([[1,2,3]])\n",
        "print(b)\n",
        "print(b.shape)"
      ],
      "metadata": {
        "colab": {
          "base_uri": "https://localhost:8080/"
        },
        "id": "4igfq_Geacc0",
        "outputId": "6597e51c-0a25-455f-9341-ed21e53d99b1"
      },
      "execution_count": null,
      "outputs": [
        {
          "output_type": "stream",
          "name": "stdout",
          "text": [
            "[[1 2 3]]\n",
            "(1, 3)\n"
          ]
        }
      ]
    },
    {
      "cell_type": "code",
      "source": [
        "# Example - Matrix\n",
        "\n",
        "M = np.array([[1,2,3],\n",
        "              [4,5,6],\n",
        "              [7,8,9]])\n",
        "print(M)\n",
        "print(M.shape)"
      ],
      "metadata": {
        "colab": {
          "base_uri": "https://localhost:8080/"
        },
        "id": "CDvdlDHaa1M1",
        "outputId": "9ee3a426-1338-4647-8c09-b8a0a771f48c"
      },
      "execution_count": null,
      "outputs": [
        {
          "output_type": "stream",
          "name": "stdout",
          "text": [
            "[[1 2 3]\n",
            " [4 5 6]\n",
            " [7 8 9]]\n",
            "(3, 3)\n"
          ]
        }
      ]
    },
    {
      "cell_type": "markdown",
      "source": [
        "**A nice trick**\n",
        "\n"
      ],
      "metadata": {
        "id": "1dpG7CjGbjBF"
      }
    },
    {
      "cell_type": "code",
      "source": [
        "# nr: Stores the number of rows\n",
        "# nc: Stores the number of columns\n",
        "nr, nc = M.shape"
      ],
      "metadata": {
        "id": "oHS2m8fZblwt"
      },
      "execution_count": null,
      "outputs": []
    },
    {
      "cell_type": "markdown",
      "source": [
        "**Size od DS**\n",
        "\n",
        "In Python, *size* means the number of elemenets in a DS."
      ],
      "metadata": {
        "id": "U38k1jYXdHyf"
      }
    },
    {
      "cell_type": "code",
      "source": [
        "M.size"
      ],
      "metadata": {
        "colab": {
          "base_uri": "https://localhost:8080/"
        },
        "id": "iHxkj0IodVRH",
        "outputId": "4e8fdbfd-97f1-43ac-f18d-449438405e6c"
      },
      "execution_count": null,
      "outputs": [
        {
          "output_type": "execute_result",
          "data": {
            "text/plain": [
              "9"
            ]
          },
          "metadata": {},
          "execution_count": 10
        }
      ]
    },
    {
      "cell_type": "code",
      "source": [
        "# ONE WARNING\n",
        "\n",
        "z = 2\n",
        "w = np.array([[2]])\n",
        "print(type(z),type(w))\n"
      ],
      "metadata": {
        "colab": {
          "base_uri": "https://localhost:8080/"
        },
        "id": "iNA3BhbhdgP3",
        "outputId": "c2229db0-8bb0-43e4-9108-ca5838ac7fae"
      },
      "execution_count": null,
      "outputs": [
        {
          "output_type": "stream",
          "name": "stdout",
          "text": [
            "<class 'int'> <class 'numpy.ndarray'>\n"
          ]
        },
        {
          "output_type": "execute_result",
          "data": {
            "text/plain": [
              "array([[1.]])"
            ]
          },
          "metadata": {},
          "execution_count": 13
        }
      ]
    },
    {
      "cell_type": "markdown",
      "source": [
        "## 2.3. Slicing\n",
        "\n",
        "It is the same as string variable, only with minor modificationes.\n",
        "\n",
        "Let's see:\n",
        "\n"
      ],
      "metadata": {
        "id": "32z5opkfeIkT"
      }
    },
    {
      "cell_type": "code",
      "source": [
        "# Extract the 1st element\n",
        "\n",
        "## Column Vector \n",
        "print(a[0,0])\n",
        "print(type(a[0,0]))\n",
        "\n",
        "## Row Vector \n",
        "print(b[0,0])\n",
        "print(type(a[0,0]))\n",
        "\n",
        "#Matrix\n",
        "print(M[1,1])"
      ],
      "metadata": {
        "colab": {
          "base_uri": "https://localhost:8080/"
        },
        "id": "aC6idSpveZMz",
        "outputId": "18aa080b-96d4-4595-c877-5349b5c3a1de"
      },
      "execution_count": null,
      "outputs": [
        {
          "output_type": "stream",
          "name": "stdout",
          "text": [
            "4\n",
            "<class 'numpy.int64'>\n",
            "1\n",
            "<class 'numpy.int64'>\n",
            "5\n"
          ]
        }
      ]
    },
    {
      "cell_type": "code",
      "source": [
        "# Extract the last element\n",
        "\n",
        "print('The last element of a row vector:', b[0,-1])\n",
        "print('The last element of a column vector:', a[-1,0])\n",
        "print('The last element of a matrix:', M[-1,-1])"
      ],
      "metadata": {
        "colab": {
          "base_uri": "https://localhost:8080/"
        },
        "id": "b2fagmbKgJ7V",
        "outputId": "5ea23166-cf09-4631-cbfd-6603720ed667"
      },
      "execution_count": null,
      "outputs": [
        {
          "output_type": "stream",
          "name": "stdout",
          "text": [
            "The last element of a row vector: 3\n",
            "The last element of a column vector: 6\n",
            "The last element of a matrix: 9\n"
          ]
        }
      ]
    },
    {
      "cell_type": "code",
      "source": [
        "# Extract a subset \n",
        "\n",
        "## Column Vector\n",
        "print(a[0:2])\n",
        "\n",
        "## Row Vector \n",
        "print(b[0,0:2])\n",
        "\n",
        "## Matrix\n",
        "print(M[0:2,0:2])"
      ],
      "metadata": {
        "colab": {
          "base_uri": "https://localhost:8080/"
        },
        "id": "8aR4EBdwg0G_",
        "outputId": "ebd8228b-f7a0-40f3-e5e9-1f5978179a10"
      },
      "execution_count": null,
      "outputs": [
        {
          "output_type": "stream",
          "name": "stdout",
          "text": [
            "[[4]\n",
            " [5]]\n",
            "[1 2]\n",
            "[[1 2]\n",
            " [4 5]]\n"
          ]
        }
      ]
    },
    {
      "cell_type": "markdown",
      "source": [
        "## 2.4. Useful methods"
      ],
      "metadata": {
        "id": "ctz_bjKzVUdz"
      }
    },
    {
      "cell_type": "markdown",
      "source": [
        "### Zeros ans Ones\n",
        "\n"
      ],
      "metadata": {
        "id": "yANbqaniVZRT"
      }
    },
    {
      "cell_type": "code",
      "source": [
        "# Create a row vector of 0's (1,7)\n",
        "# z1 = np.array([[0,0,0,0,0,0,0]])\n",
        "\n",
        "# Zeros\n",
        "\n",
        "## One dimensional\n",
        "z1 = np.zeros(7)\n",
        "print(z1)\n",
        "\n",
        "z2 = np.zeros(7, dtype = int)\n",
        "print(z2)\n",
        "\n",
        "## Two dimensional \n",
        "Z1 = np.zeros((4,5))\n",
        "print(Z1)\n"
      ],
      "metadata": {
        "colab": {
          "base_uri": "https://localhost:8080/"
        },
        "id": "zsSmSx7HVpD6",
        "outputId": "d1379580-7920-410e-af43-792dfa4499c2"
      },
      "execution_count": 9,
      "outputs": [
        {
          "output_type": "stream",
          "name": "stdout",
          "text": [
            "[0. 0. 0. 0. 0. 0. 0.]\n",
            "[0 0 0 0 0 0 0]\n",
            "[[0. 0. 0. 0. 0.]\n",
            " [0. 0. 0. 0. 0.]\n",
            " [0. 0. 0. 0. 0.]\n",
            " [0. 0. 0. 0. 0.]]\n"
          ]
        }
      ]
    },
    {
      "cell_type": "code",
      "source": [
        "# Ones\n",
        "\n",
        "## One dimensional\n",
        "o1 = np.ones(7)\n",
        "print(o1)\n",
        "\n",
        "o2 = np.ones(7, dtype = int)\n",
        "print(o2)\n",
        "\n",
        "## Two dimensional \n",
        "O1 = np.ones((4,5))\n",
        "print(O1)\n"
      ],
      "metadata": {
        "colab": {
          "base_uri": "https://localhost:8080/"
        },
        "id": "wikLc87fX1lh",
        "outputId": "0137b748-03a0-4256-ac4f-94dd870ec27e"
      },
      "execution_count": 10,
      "outputs": [
        {
          "output_type": "stream",
          "name": "stdout",
          "text": [
            "[1. 1. 1. 1. 1. 1. 1.]\n",
            "[1 1 1 1 1 1 1]\n",
            "[[1. 1. 1. 1. 1.]\n",
            " [1. 1. 1. 1. 1.]\n",
            " [1. 1. 1. 1. 1.]\n",
            " [1. 1. 1. 1. 1.]]\n"
          ]
        }
      ]
    },
    {
      "cell_type": "markdown",
      "source": [
        "### Another creation options\n",
        "\n"
      ],
      "metadata": {
        "id": "cJihXIDeYUlh"
      }
    },
    {
      "cell_type": "code",
      "source": [
        "# Full\n",
        "\n",
        "## One dimension\n",
        "np.full(7,13)\n",
        "\n",
        "## Two dimension \n",
        "np.full((3,2),13)"
      ],
      "metadata": {
        "colab": {
          "base_uri": "https://localhost:8080/"
        },
        "id": "f9xMZTkFYifJ",
        "outputId": "2157a09f-0f06-45f4-c191-24af5901d9fb"
      },
      "execution_count": 14,
      "outputs": [
        {
          "output_type": "execute_result",
          "data": {
            "text/plain": [
              "array([[13, 13],\n",
              "       [13, 13],\n",
              "       [13, 13]])"
            ]
          },
          "metadata": {},
          "execution_count": 14
        }
      ]
    },
    {
      "cell_type": "code",
      "source": [
        "# A DS with space values (like a sequence)\n",
        "\n",
        "## A custom sequence - only can create one dimension\n",
        "np.arange(6)"
      ],
      "metadata": {
        "colab": {
          "base_uri": "https://localhost:8080/"
        },
        "id": "wAcZLIGVZHdI",
        "outputId": "94f36919-8cbe-43d6-d53c-c6689bedb77b"
      },
      "execution_count": 15,
      "outputs": [
        {
          "output_type": "execute_result",
          "data": {
            "text/plain": [
              "array([0, 1, 2, 3, 4, 5])"
            ]
          },
          "metadata": {},
          "execution_count": 15
        }
      ]
    },
    {
      "cell_type": "code",
      "source": [
        "## A custom sequence - starting with a and stop at b\n",
        "a = 3\n",
        "b = 25\n",
        "np.arange(a,b)"
      ],
      "metadata": {
        "colab": {
          "base_uri": "https://localhost:8080/"
        },
        "id": "qFzNAuoaZs5R",
        "outputId": "30520110-4725-4821-c9c5-128ba6f3308e"
      },
      "execution_count": 16,
      "outputs": [
        {
          "output_type": "execute_result",
          "data": {
            "text/plain": [
              "array([ 3,  4,  5,  6,  7,  8,  9, 10, 11, 12, 13, 14, 15, 16, 17, 18, 19,\n",
              "       20, 21, 22, 23, 24])"
            ]
          },
          "metadata": {},
          "execution_count": 16
        }
      ]
    },
    {
      "cell_type": "code",
      "source": [
        "## A custom sequence with a set step\n",
        "a = 3\n",
        "b = 25\n",
        "s = 0.25 #step\n",
        "np.arange(a,b,s)"
      ],
      "metadata": {
        "colab": {
          "base_uri": "https://localhost:8080/"
        },
        "id": "u9bYHlpAaGEn",
        "outputId": "51f4a42e-0600-4bec-e4d9-cff7dbdc7bea"
      },
      "execution_count": 21,
      "outputs": [
        {
          "output_type": "execute_result",
          "data": {
            "text/plain": [
              "array([ 3.  ,  3.25,  3.5 ,  3.75,  4.  ,  4.25,  4.5 ,  4.75,  5.  ,\n",
              "        5.25,  5.5 ,  5.75,  6.  ,  6.25,  6.5 ,  6.75,  7.  ,  7.25,\n",
              "        7.5 ,  7.75,  8.  ,  8.25,  8.5 ,  8.75,  9.  ,  9.25,  9.5 ,\n",
              "        9.75, 10.  , 10.25, 10.5 , 10.75, 11.  , 11.25, 11.5 , 11.75,\n",
              "       12.  , 12.25, 12.5 , 12.75, 13.  , 13.25, 13.5 , 13.75, 14.  ,\n",
              "       14.25, 14.5 , 14.75, 15.  , 15.25, 15.5 , 15.75, 16.  , 16.25,\n",
              "       16.5 , 16.75, 17.  , 17.25, 17.5 , 17.75, 18.  , 18.25, 18.5 ,\n",
              "       18.75, 19.  , 19.25, 19.5 , 19.75, 20.  , 20.25, 20.5 , 20.75,\n",
              "       21.  , 21.25, 21.5 , 21.75, 22.  , 22.25, 22.5 , 22.75, 23.  ,\n",
              "       23.25, 23.5 , 23.75, 24.  , 24.25, 24.5 , 24.75])"
            ]
          },
          "metadata": {},
          "execution_count": 21
        }
      ]
    },
    {
      "cell_type": "code",
      "source": [
        "## Linear space \n",
        "a = 15\n",
        "b = 17\n",
        "n = 10\n",
        "\n",
        "np.linspace(a, b, num = n)\n"
      ],
      "metadata": {
        "colab": {
          "base_uri": "https://localhost:8080/"
        },
        "id": "ougxKs5CakEX",
        "outputId": "e2d045dd-54ab-4bce-d12b-37a51777afd0"
      },
      "execution_count": 27,
      "outputs": [
        {
          "output_type": "execute_result",
          "data": {
            "text/plain": [
              "array([15.        , 15.22222222, 15.44444444, 15.66666667, 15.88888889,\n",
              "       16.11111111, 16.33333333, 16.55555556, 16.77777778, 17.        ])"
            ]
          },
          "metadata": {},
          "execution_count": 27
        }
      ]
    },
    {
      "cell_type": "markdown",
      "source": [
        "### Random numbers \n",
        "\n",
        "We are talking about probabilities, and of probabilitic distributions. "
      ],
      "metadata": {
        "id": "nb5IgBJlbzca"
      }
    },
    {
      "cell_type": "markdown",
      "source": [
        "#### Uniform distribution over [0,1)"
      ],
      "metadata": {
        "id": "HiqExVCmcQRw"
      }
    },
    {
      "cell_type": "code",
      "source": [
        "# A Single vale\n",
        "np.random.rand()"
      ],
      "metadata": {
        "colab": {
          "base_uri": "https://localhost:8080/"
        },
        "id": "B7yp55kecrBQ",
        "outputId": "98ab7482-908f-4389-8f5c-35c4976138fa"
      },
      "execution_count": 29,
      "outputs": [
        {
          "output_type": "execute_result",
          "data": {
            "text/plain": [
              "0.42361930156855787"
            ]
          },
          "metadata": {},
          "execution_count": 29
        }
      ]
    },
    {
      "cell_type": "code",
      "source": [
        "# Example - The coin toss\n",
        "# Here we are going to similate a coin toss\n",
        "\n",
        "if np.random.rand() <= 0.5:\n",
        "  print('head')\n",
        "else:\n",
        "  print('tails')"
      ],
      "metadata": {
        "colab": {
          "base_uri": "https://localhost:8080/"
        },
        "id": "JQMABegidPBH",
        "outputId": "b12e031e-23c2-444e-c80d-e370802c7edc"
      },
      "execution_count": 38,
      "outputs": [
        {
          "output_type": "stream",
          "name": "stdout",
          "text": [
            "head\n"
          ]
        }
      ]
    },
    {
      "cell_type": "code",
      "source": [
        "# Example 2 - Ranking \n",
        "\n",
        "## The idea is to print 'Low' if the number is lower than 0.3\n",
        "## print 'Average' if is between 0.3 and 0.7\n",
        "## print 'High' if it is greater than 0.7\n",
        "\n",
        "rnd = np.random.rand()\n",
        "\n",
        "if np.random.rand() <=0.3:\n",
        "  print('Low')\n",
        "elif np.random.rand() > 0.3 and rnd <=0.7:\n",
        "  print('Average',rnd)\n",
        "else:\n",
        "  print('High',rnd)"
      ],
      "metadata": {
        "colab": {
          "base_uri": "https://localhost:8080/"
        },
        "id": "j2QbJzboe_Fu",
        "outputId": "0bcc8eb3-58ec-4db8-9fff-4556829e8e96"
      },
      "execution_count": 44,
      "outputs": [
        {
          "output_type": "stream",
          "name": "stdout",
          "text": [
            "Average 0.4661345969642485\n"
          ]
        }
      ]
    },
    {
      "cell_type": "markdown",
      "source": [
        "**Exersice**\n",
        "\n",
        "Code the following game: Print the message 'You win!' if two coin tosses are heads and print 'You lose!' otherwise."
      ],
      "metadata": {
        "id": "DoLXdGq8hR21"
      }
    },
    {
      "cell_type": "code",
      "source": [
        "# Solution Exercise\n",
        "## First Try (or attempt)\n",
        "\n",
        "First_attempt = np.random.rand()\n",
        "\n",
        "if First_attempt <=0.5:\n",
        "  print('Head', First_attempt)\n",
        "else:\n",
        "  print('Tails', First_attempt)\n",
        "\n",
        "## Second Try (or attempt)\n",
        "\n",
        "Second_attempt = np.random.rand()\n",
        "\n",
        "if Second_attempt <=0.5:\n",
        "  print('Head', Second_attempt)\n",
        "else:\n",
        "  print('Tails', Second_attempt)\n",
        "\n",
        "if First_attempt <=0.5 and Second_attempt <=0.5:\n",
        "  print('You Win!')\n",
        "else:\n",
        "  print('You Lose')\n"
      ],
      "metadata": {
        "colab": {
          "base_uri": "https://localhost:8080/"
        },
        "id": "DAX6eD4xhy7c",
        "outputId": "553ffc04-b9e2-41f6-c3c9-03023b4ef64a"
      },
      "execution_count": 59,
      "outputs": [
        {
          "output_type": "stream",
          "name": "stdout",
          "text": [
            "Head 0.4642473938773658\n",
            "Head 0.11658286783541594\n",
            "You Win!\n"
          ]
        }
      ]
    }
  ]
}