{
  "nbformat": 4,
  "nbformat_minor": 0,
  "metadata": {
    "colab": {
      "provenance": [],
      "authorship_tag": "ABX9TyPtZ+azCxRw4jQXP+94l4EG",
      "include_colab_link": true
    },
    "kernelspec": {
      "name": "python3",
      "display_name": "Python 3"
    },
    "language_info": {
      "name": "python"
    }
  },
  "cells": [
    {
      "cell_type": "markdown",
      "metadata": {
        "id": "view-in-github",
        "colab_type": "text"
      },
      "source": [
        "<a href=\"https://colab.research.google.com/github/ValentinaGiraldo0/Code_in_class/blob/main/03_Data_Structures.ipynb\" target=\"_parent\"><img src=\"https://colab.research.google.com/assets/colab-badge.svg\" alt=\"Open In Colab\"/></a>"
      ]
    },
    {
      "cell_type": "markdown",
      "source": [
        "# **1. What us a data structure?**\n",
        "\n",
        "DS are like variable, they *save* information. The difference is that DS can store more than 1 value.\n",
        "\n",
        "Formally, DS store a **sequence** of values which can be located with an index \n",
        "(sciling). Ex: List, vectors and matrices, databases.\n",
        "\n",
        "Now, basic Python sucks!! It lacks specialized tools, In this case, we need to install `numpy`."
      ],
      "metadata": {
        "id": "_ySWrhVxTefc"
      }
    },
    {
      "cell_type": "markdown",
      "source": [
        "# **2. Linear Algebra - Numpy**\n"
      ],
      "metadata": {
        "id": "GdJCeCZiU3Lk"
      }
    },
    {
      "cell_type": "markdown",
      "source": [
        "## 2.1. **What is Numpy?**\n",
        "\n",
        "Numpy (or Numerical Python) is collection of functions and methods to handle DS. \n",
        "\n",
        "This library works very well with other libraries and it is very popular."
      ],
      "metadata": {
        "id": "41ej-tI9Wzbq"
      }
    },
    {
      "cell_type": "code",
      "source": [
        "# Install a library \n",
        "\n",
        "import numpy as np"
      ],
      "metadata": {
        "id": "CKkIW2E5V0wz"
      },
      "execution_count": 9,
      "outputs": []
    },
    {
      "cell_type": "markdown",
      "source": [
        "## 2.2. Numpy arrays - vector and matrices\n",
        "\n",
        "Objects arranged by row and columns. With these object you can sum and multiply.\n",
        "\n",
        "*Example 1*\n",
        "\n",
        "Let $b$ be a vector with 2 rows and 1 column:\n",
        "\n",
        "\\begin{equation}\n",
        "a = \\left[\\begin{array}{c} a_{1} \\\\ a_{2}\n",
        "    \\end{array}\\right]\n",
        "\\end{equation}\n",
        "\n",
        "This is called a **COLUMN VECTOR**. And the dimension or shape is $(2,1)$ or $(2 \\times 1)$\n",
        "\n",
        "\n",
        "\n",
        "*Example 2*\n",
        "\n",
        "Let $b$ be a vector with 1 rows and 2 column:\n",
        "\n",
        "\\begin{equation}\n",
        "b = \\left[\\begin{array}{c} b_{1} & b_{2}\n",
        "    \\end{array}\\right]\n",
        "\\end{equation}\n",
        "\n",
        "This is called a **ROW VECTOR**. And the dimension or shape is $(1,2)$ or $(1 \\times 2)$\n",
        "\n",
        "\n",
        "*Example 3*\n",
        "\n",
        "A matrix has more than 1 row and more than column.\n",
        "\n",
        "Of course if the number rows and columns are equal, it is called a *squared matrix*.\n",
        "\n",
        "In general, let $M$ be a matrix of dimensions $(n,m)$ or $(n \\times m)$.\n",
        "\n",
        "For the case of $n=3$ and $m=3$:\n",
        "\n",
        "\\begin{equation}\n",
        "M = \\left[\\begin{array}{c}\n",
        "m_{1,1} & m_{1,2} & m_{1,3} \\\\\n",
        "m_{2,1} & m_{2,2} & m_{2,3} \\\\\n",
        "m_{3,1} & m_{3,2} & m_{3,3} \\\\\n",
        "    \\end{array}\\right]\n",
        "\\end{equation}\n",
        "\n",
        "\n",
        "Now, all of this "
      ],
      "metadata": {
        "id": "H_dP0t68WlEb"
      }
    },
    {
      "cell_type": "code",
      "source": [
        "# Example - Column Vector \n",
        "\n",
        "a = np.array([[4],[5],[6]])\n",
        "print(a)\n",
        "print(a.shape)"
      ],
      "metadata": {
        "colab": {
          "base_uri": "https://localhost:8080/"
        },
        "id": "eQgYKASJc24J",
        "outputId": "a839c43d-2e31-487b-961a-416a0f084cfe"
      },
      "execution_count": 10,
      "outputs": [
        {
          "output_type": "stream",
          "name": "stdout",
          "text": [
            "[[4]\n",
            " [5]\n",
            " [6]]\n",
            "(3, 1)\n"
          ]
        }
      ]
    }
  ]
}