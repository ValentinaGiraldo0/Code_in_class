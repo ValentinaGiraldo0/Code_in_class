{
  "nbformat": 4,
  "nbformat_minor": 0,
  "metadata": {
    "colab": {
      "provenance": [],
      "toc_visible": true,
      "authorship_tag": "ABX9TyMubjXRyEy16ogDkfHoSNAd",
      "include_colab_link": true
    },
    "kernelspec": {
      "name": "python3",
      "display_name": "Python 3"
    },
    "language_info": {
      "name": "python"
    }
  },
  "cells": [
    {
      "cell_type": "markdown",
      "metadata": {
        "id": "view-in-github",
        "colab_type": "text"
      },
      "source": [
        "<a href=\"https://colab.research.google.com/github/ValentinaGiraldo0/Code_in_class/blob/main/03_Data_Structures.ipynb\" target=\"_parent\"><img src=\"https://colab.research.google.com/assets/colab-badge.svg\" alt=\"Open In Colab\"/></a>"
      ]
    },
    {
      "cell_type": "markdown",
      "source": [
        "# **1. What us a data structure?**\n",
        "\n",
        "DS are like variable, they *save* information. The difference is that DS can store more than 1 value.\n",
        "\n",
        "Formally, DS store a **sequence** of values which can be located with an index \n",
        "(sciling). Ex: List, vectors and matrices, databases.\n",
        "\n",
        "Now, basic Python sucks!! It lacks specialized tools, In this case, we need to install `numpy`."
      ],
      "metadata": {
        "id": "_ySWrhVxTefc"
      }
    },
    {
      "cell_type": "markdown",
      "source": [
        "# **2. Linear Algebra - Numpy**\n"
      ],
      "metadata": {
        "id": "GdJCeCZiU3Lk"
      }
    },
    {
      "cell_type": "markdown",
      "source": [
        "## 2.1. **What is Numpy?**\n",
        "\n",
        "Numpy (or Numerical Python) is collection of functions and methods to handle DS. \n",
        "\n",
        "This library works very well with other libraries and it is very popular."
      ],
      "metadata": {
        "id": "41ej-tI9Wzbq"
      }
    },
    {
      "cell_type": "code",
      "source": [
        "# Install a library \n",
        "\n",
        "import numpy as np"
      ],
      "metadata": {
        "id": "CKkIW2E5V0wz"
      },
      "execution_count": 7,
      "outputs": []
    },
    {
      "cell_type": "markdown",
      "source": [
        "## 2.2. Numpy arrays - vector and matrices\n",
        "\n",
        "Objects arranged by row and columns. With these object you can sum and multiply.\n",
        "\n",
        "*Example 1*\n",
        "\n",
        "Let $b$ be a vector with 2 rows and 1 column:\n",
        "\n",
        "\\begin{equation}\n",
        "a = \\left[\\begin{array}{c} a_{1} \\\\ a_{2}\n",
        "    \\end{array}\\right]\n",
        "\\end{equation}\n",
        "\n",
        "This is called a **COLUMN VECTOR**. And the dimension or shape is $(2,1)$ or $(2 \\times 1)$\n",
        "\n",
        "\n",
        "\n",
        "*Example 2*\n",
        "\n",
        "Let $b$ be a vector with 1 rows and 2 column:\n",
        "\n",
        "\\begin{equation}\n",
        "b = \\left[\\begin{array}{c} b_{1} & b_{2}\n",
        "    \\end{array}\\right]\n",
        "\\end{equation}\n",
        "\n",
        "This is called a **ROW VECTOR**. And the dimension or shape is $(1,2)$ or $(1 \\times 2)$\n",
        "\n",
        "\n",
        "*Example 3*\n",
        "\n",
        "A matrix has more than 1 row and more than column.\n",
        "\n",
        "Of course if the number rows and columns are equal, it is called a *squared matrix*.\n",
        "\n",
        "In general, let $M$ be a matrix of dimensions $(n,m)$ or $(n \\times m)$.\n",
        "\n",
        "For the case of $n=3$ and $m=3$:\n",
        "\n",
        "\\begin{equation}\n",
        "M = \\left[\\begin{array}{c}\n",
        "m_{1,1} & m_{1,2} & m_{1,3} \\\\\n",
        "m_{2,1} & m_{2,2} & m_{2,3} \\\\\n",
        "m_{3,1} & m_{3,2} & m_{3,3} \\\\\n",
        "    \\end{array}\\right]\n",
        "\\end{equation}\n",
        "\n",
        "\n",
        "Now, all of this "
      ],
      "metadata": {
        "id": "H_dP0t68WlEb"
      }
    },
    {
      "cell_type": "code",
      "source": [
        "# Example - Column Vector \n",
        "\n",
        "a = np.array([[4],[5],[6]])\n",
        "print(a)\n",
        "print(a.shape)"
      ],
      "metadata": {
        "colab": {
          "base_uri": "https://localhost:8080/"
        },
        "id": "eQgYKASJc24J",
        "outputId": "8ca830c1-b07e-4b49-b7ec-3adc73d411bf"
      },
      "execution_count": 8,
      "outputs": [
        {
          "output_type": "stream",
          "name": "stdout",
          "text": [
            "[[4]\n",
            " [5]\n",
            " [6]]\n",
            "(3, 1)\n"
          ]
        }
      ]
    },
    {
      "cell_type": "code",
      "source": [
        "# Example - Row Vector \n",
        "\n",
        "b = np.array([[1,2,3]])\n",
        "print(b)\n",
        "print(b.shape)"
      ],
      "metadata": {
        "colab": {
          "base_uri": "https://localhost:8080/"
        },
        "id": "4igfq_Geacc0",
        "outputId": "dffec828-dbb3-4ca7-f160-1b632a6f0b3a"
      },
      "execution_count": 9,
      "outputs": [
        {
          "output_type": "stream",
          "name": "stdout",
          "text": [
            "[[1 2 3]]\n",
            "(1, 3)\n"
          ]
        }
      ]
    },
    {
      "cell_type": "code",
      "source": [
        "# Example - Matrix\n",
        "\n",
        "M = np.array([[1,2,3],\n",
        "              [4,5,6],\n",
        "              [7,8,9]])\n",
        "print(M)\n",
        "print(M.shape)"
      ],
      "metadata": {
        "colab": {
          "base_uri": "https://localhost:8080/"
        },
        "id": "CDvdlDHaa1M1",
        "outputId": "46ada6df-12d9-4dc0-cd29-c2124a76d96a"
      },
      "execution_count": 10,
      "outputs": [
        {
          "output_type": "stream",
          "name": "stdout",
          "text": [
            "[[1 2 3]\n",
            " [4 5 6]\n",
            " [7 8 9]]\n",
            "(3, 3)\n"
          ]
        }
      ]
    },
    {
      "cell_type": "markdown",
      "source": [
        "**A nice trick**\n",
        "\n"
      ],
      "metadata": {
        "id": "1dpG7CjGbjBF"
      }
    },
    {
      "cell_type": "code",
      "source": [
        "# nr: Stores the number of rows\n",
        "# nc: Stores the number of columns\n",
        "nr, nc = M.shape"
      ],
      "metadata": {
        "id": "oHS2m8fZblwt"
      },
      "execution_count": 11,
      "outputs": []
    },
    {
      "cell_type": "markdown",
      "source": [
        "**Size od DS**\n",
        "\n",
        "In Python, *size* means the number of elemenets in a DS."
      ],
      "metadata": {
        "id": "U38k1jYXdHyf"
      }
    },
    {
      "cell_type": "code",
      "source": [
        "M.size"
      ],
      "metadata": {
        "colab": {
          "base_uri": "https://localhost:8080/"
        },
        "id": "iHxkj0IodVRH",
        "outputId": "877ebd9a-a11a-494e-ef9d-451985eccf79"
      },
      "execution_count": 12,
      "outputs": [
        {
          "output_type": "execute_result",
          "data": {
            "text/plain": [
              "9"
            ]
          },
          "metadata": {},
          "execution_count": 12
        }
      ]
    },
    {
      "cell_type": "code",
      "source": [
        "# ONE WARNING\n",
        "\n",
        "z = 2\n",
        "w = np.array([[2]])\n",
        "print(type(z),type(w))\n"
      ],
      "metadata": {
        "colab": {
          "base_uri": "https://localhost:8080/"
        },
        "id": "iNA3BhbhdgP3",
        "outputId": "a8a28f47-2380-43e9-e736-6af2bfc41383"
      },
      "execution_count": 13,
      "outputs": [
        {
          "output_type": "stream",
          "name": "stdout",
          "text": [
            "<class 'int'> <class 'numpy.ndarray'>\n"
          ]
        }
      ]
    },
    {
      "cell_type": "markdown",
      "source": [
        "## 2.3. Slicing\n",
        "\n",
        "It is the same as string variable, only with minor modificationes.\n",
        "\n",
        "Let's see:\n",
        "\n"
      ],
      "metadata": {
        "id": "32z5opkfeIkT"
      }
    },
    {
      "cell_type": "code",
      "source": [
        "# Extract the 1st element\n",
        "\n",
        "## Column Vector \n",
        "print(a[0,0])\n",
        "print(type(a[0,0]))\n",
        "\n",
        "## Row Vector \n",
        "print(b[0,0])\n",
        "print(type(a[0,0]))\n",
        "\n",
        "#Matrix\n",
        "print(M[1,1])"
      ],
      "metadata": {
        "colab": {
          "base_uri": "https://localhost:8080/"
        },
        "id": "aC6idSpveZMz",
        "outputId": "51d0bd30-147f-4f70-c61b-feaca7eda126"
      },
      "execution_count": 14,
      "outputs": [
        {
          "output_type": "stream",
          "name": "stdout",
          "text": [
            "4\n",
            "<class 'numpy.int64'>\n",
            "1\n",
            "<class 'numpy.int64'>\n",
            "5\n"
          ]
        }
      ]
    },
    {
      "cell_type": "code",
      "source": [
        "# Extract the last element\n",
        "\n",
        "print('The last element of a row vector:', b[0,-1])\n",
        "print('The last element of a column vector:', a[-1,0])\n",
        "print('The last element of a matrix:', M[-1,-1])"
      ],
      "metadata": {
        "colab": {
          "base_uri": "https://localhost:8080/"
        },
        "id": "b2fagmbKgJ7V",
        "outputId": "f7095212-059d-4c8e-db8e-661c97ef2e9c"
      },
      "execution_count": 15,
      "outputs": [
        {
          "output_type": "stream",
          "name": "stdout",
          "text": [
            "The last element of a row vector: 3\n",
            "The last element of a column vector: 6\n",
            "The last element of a matrix: 9\n"
          ]
        }
      ]
    },
    {
      "cell_type": "code",
      "source": [
        "# Extract a subset \n",
        "\n",
        "## Column Vector\n",
        "print(a[0:2])\n",
        "\n",
        "## Row Vector \n",
        "print(b[0,0:2])\n",
        "\n",
        "## Matrix\n",
        "print(M[0:2,0:2])"
      ],
      "metadata": {
        "colab": {
          "base_uri": "https://localhost:8080/"
        },
        "id": "8aR4EBdwg0G_",
        "outputId": "2083ef6b-b824-466b-b676-4ace7b446ec7"
      },
      "execution_count": 16,
      "outputs": [
        {
          "output_type": "stream",
          "name": "stdout",
          "text": [
            "[[4]\n",
            " [5]]\n",
            "[1 2]\n",
            "[[1 2]\n",
            " [4 5]]\n"
          ]
        }
      ]
    },
    {
      "cell_type": "markdown",
      "source": [
        "## 2.4. Useful methods"
      ],
      "metadata": {
        "id": "ctz_bjKzVUdz"
      }
    },
    {
      "cell_type": "markdown",
      "source": [
        "### Zeros ans Ones\n",
        "\n"
      ],
      "metadata": {
        "id": "yANbqaniVZRT"
      }
    },
    {
      "cell_type": "code",
      "source": [
        "# Create a row vector of 0's (1,7)\n",
        "# z1 = np.array([[0,0,0,0,0,0,0]])\n",
        "\n",
        "# Zeros\n",
        "\n",
        "## One dimensional\n",
        "z1 = np.zeros(7)\n",
        "print(z1)\n",
        "\n",
        "z2 = np.zeros(7, dtype = int)\n",
        "print(z2)\n",
        "\n",
        "## Two dimensional \n",
        "Z1 = np.zeros((4,5))\n",
        "print(Z1)\n"
      ],
      "metadata": {
        "colab": {
          "base_uri": "https://localhost:8080/"
        },
        "id": "zsSmSx7HVpD6",
        "outputId": "b56260c3-8b1f-4986-df44-803c35c77fe0"
      },
      "execution_count": 17,
      "outputs": [
        {
          "output_type": "stream",
          "name": "stdout",
          "text": [
            "[0. 0. 0. 0. 0. 0. 0.]\n",
            "[0 0 0 0 0 0 0]\n",
            "[[0. 0. 0. 0. 0.]\n",
            " [0. 0. 0. 0. 0.]\n",
            " [0. 0. 0. 0. 0.]\n",
            " [0. 0. 0. 0. 0.]]\n"
          ]
        }
      ]
    },
    {
      "cell_type": "code",
      "source": [
        "# Ones\n",
        "\n",
        "## One dimensional\n",
        "o1 = np.ones(7)\n",
        "print(o1)\n",
        "\n",
        "o2 = np.ones(7, dtype = int)\n",
        "print(o2)\n",
        "\n",
        "## Two dimensional \n",
        "O1 = np.ones((4,5))\n",
        "print(O1)\n"
      ],
      "metadata": {
        "colab": {
          "base_uri": "https://localhost:8080/"
        },
        "id": "wikLc87fX1lh",
        "outputId": "0137b748-03a0-4256-ac4f-94dd870ec27e"
      },
      "execution_count": null,
      "outputs": [
        {
          "output_type": "stream",
          "name": "stdout",
          "text": [
            "[1. 1. 1. 1. 1. 1. 1.]\n",
            "[1 1 1 1 1 1 1]\n",
            "[[1. 1. 1. 1. 1.]\n",
            " [1. 1. 1. 1. 1.]\n",
            " [1. 1. 1. 1. 1.]\n",
            " [1. 1. 1. 1. 1.]]\n"
          ]
        }
      ]
    },
    {
      "cell_type": "markdown",
      "source": [
        "### Another creation options\n",
        "\n"
      ],
      "metadata": {
        "id": "cJihXIDeYUlh"
      }
    },
    {
      "cell_type": "code",
      "source": [
        "# Full\n",
        "\n",
        "## One dimension\n",
        "np.full(7,13)\n",
        "\n",
        "## Two dimension \n",
        "np.full((3,2),13)"
      ],
      "metadata": {
        "colab": {
          "base_uri": "https://localhost:8080/"
        },
        "id": "f9xMZTkFYifJ",
        "outputId": "2157a09f-0f06-45f4-c191-24af5901d9fb"
      },
      "execution_count": null,
      "outputs": [
        {
          "output_type": "execute_result",
          "data": {
            "text/plain": [
              "array([[13, 13],\n",
              "       [13, 13],\n",
              "       [13, 13]])"
            ]
          },
          "metadata": {},
          "execution_count": 14
        }
      ]
    },
    {
      "cell_type": "code",
      "source": [
        "# A DS with space values (like a sequence)\n",
        "\n",
        "## A custom sequence - only can create one dimension\n",
        "np.arange(6)"
      ],
      "metadata": {
        "colab": {
          "base_uri": "https://localhost:8080/"
        },
        "id": "wAcZLIGVZHdI",
        "outputId": "94f36919-8cbe-43d6-d53c-c6689bedb77b"
      },
      "execution_count": null,
      "outputs": [
        {
          "output_type": "execute_result",
          "data": {
            "text/plain": [
              "array([0, 1, 2, 3, 4, 5])"
            ]
          },
          "metadata": {},
          "execution_count": 15
        }
      ]
    },
    {
      "cell_type": "code",
      "source": [
        "## A custom sequence - starting with a and stop at b\n",
        "a = 3\n",
        "b = 25\n",
        "np.arange(a,b)"
      ],
      "metadata": {
        "colab": {
          "base_uri": "https://localhost:8080/"
        },
        "id": "qFzNAuoaZs5R",
        "outputId": "30520110-4725-4821-c9c5-128ba6f3308e"
      },
      "execution_count": null,
      "outputs": [
        {
          "output_type": "execute_result",
          "data": {
            "text/plain": [
              "array([ 3,  4,  5,  6,  7,  8,  9, 10, 11, 12, 13, 14, 15, 16, 17, 18, 19,\n",
              "       20, 21, 22, 23, 24])"
            ]
          },
          "metadata": {},
          "execution_count": 16
        }
      ]
    },
    {
      "cell_type": "code",
      "source": [
        "## A custom sequence with a set step\n",
        "a = 3\n",
        "b = 25\n",
        "s = 0.25 #step\n",
        "np.arange(a,b,s)"
      ],
      "metadata": {
        "colab": {
          "base_uri": "https://localhost:8080/"
        },
        "id": "u9bYHlpAaGEn",
        "outputId": "51f4a42e-0600-4bec-e4d9-cff7dbdc7bea"
      },
      "execution_count": null,
      "outputs": [
        {
          "output_type": "execute_result",
          "data": {
            "text/plain": [
              "array([ 3.  ,  3.25,  3.5 ,  3.75,  4.  ,  4.25,  4.5 ,  4.75,  5.  ,\n",
              "        5.25,  5.5 ,  5.75,  6.  ,  6.25,  6.5 ,  6.75,  7.  ,  7.25,\n",
              "        7.5 ,  7.75,  8.  ,  8.25,  8.5 ,  8.75,  9.  ,  9.25,  9.5 ,\n",
              "        9.75, 10.  , 10.25, 10.5 , 10.75, 11.  , 11.25, 11.5 , 11.75,\n",
              "       12.  , 12.25, 12.5 , 12.75, 13.  , 13.25, 13.5 , 13.75, 14.  ,\n",
              "       14.25, 14.5 , 14.75, 15.  , 15.25, 15.5 , 15.75, 16.  , 16.25,\n",
              "       16.5 , 16.75, 17.  , 17.25, 17.5 , 17.75, 18.  , 18.25, 18.5 ,\n",
              "       18.75, 19.  , 19.25, 19.5 , 19.75, 20.  , 20.25, 20.5 , 20.75,\n",
              "       21.  , 21.25, 21.5 , 21.75, 22.  , 22.25, 22.5 , 22.75, 23.  ,\n",
              "       23.25, 23.5 , 23.75, 24.  , 24.25, 24.5 , 24.75])"
            ]
          },
          "metadata": {},
          "execution_count": 21
        }
      ]
    },
    {
      "cell_type": "code",
      "source": [
        "## Linear space \n",
        "a = 15\n",
        "b = 17\n",
        "n = 10\n",
        "\n",
        "np.linspace(a, b, num = n)\n"
      ],
      "metadata": {
        "colab": {
          "base_uri": "https://localhost:8080/"
        },
        "id": "ougxKs5CakEX",
        "outputId": "e2d045dd-54ab-4bce-d12b-37a51777afd0"
      },
      "execution_count": null,
      "outputs": [
        {
          "output_type": "execute_result",
          "data": {
            "text/plain": [
              "array([15.        , 15.22222222, 15.44444444, 15.66666667, 15.88888889,\n",
              "       16.11111111, 16.33333333, 16.55555556, 16.77777778, 17.        ])"
            ]
          },
          "metadata": {},
          "execution_count": 27
        }
      ]
    },
    {
      "cell_type": "markdown",
      "source": [
        "### Random numbers \n",
        "\n",
        "We are talking about probabilities, and of probabilitic distributions. "
      ],
      "metadata": {
        "id": "nb5IgBJlbzca"
      }
    },
    {
      "cell_type": "markdown",
      "source": [
        "### Uniform distribution over [0,1)"
      ],
      "metadata": {
        "id": "HiqExVCmcQRw"
      }
    },
    {
      "cell_type": "code",
      "source": [
        "# A Single vale\n",
        "np.random.rand()"
      ],
      "metadata": {
        "colab": {
          "base_uri": "https://localhost:8080/"
        },
        "id": "B7yp55kecrBQ",
        "outputId": "98ab7482-908f-4389-8f5c-35c4976138fa"
      },
      "execution_count": null,
      "outputs": [
        {
          "output_type": "execute_result",
          "data": {
            "text/plain": [
              "0.42361930156855787"
            ]
          },
          "metadata": {},
          "execution_count": 29
        }
      ]
    },
    {
      "cell_type": "code",
      "source": [
        "# Example - The coin toss\n",
        "# Here we are going to similate a coin toss\n",
        "\n",
        "if np.random.rand() <= 0.5:\n",
        "  print('head')\n",
        "else:\n",
        "  print('tails')"
      ],
      "metadata": {
        "colab": {
          "base_uri": "https://localhost:8080/"
        },
        "id": "JQMABegidPBH",
        "outputId": "b12e031e-23c2-444e-c80d-e370802c7edc"
      },
      "execution_count": null,
      "outputs": [
        {
          "output_type": "stream",
          "name": "stdout",
          "text": [
            "head\n"
          ]
        }
      ]
    },
    {
      "cell_type": "code",
      "source": [
        "# Example 2 - Ranking \n",
        "\n",
        "## The idea is to print 'Low' if the number is lower than 0.3\n",
        "## print 'Average' if is between 0.3 and 0.7\n",
        "## print 'High' if it is greater than 0.7\n",
        "\n",
        "rnd = np.random.rand()\n",
        "\n",
        "if np.random.rand() <=0.3:\n",
        "  print('Low')\n",
        "elif np.random.rand() > 0.3 and rnd <=0.7:\n",
        "  print('Average',rnd)\n",
        "else:\n",
        "  print('High',rnd)"
      ],
      "metadata": {
        "colab": {
          "base_uri": "https://localhost:8080/"
        },
        "id": "j2QbJzboe_Fu",
        "outputId": "0bcc8eb3-58ec-4db8-9fff-4556829e8e96"
      },
      "execution_count": null,
      "outputs": [
        {
          "output_type": "stream",
          "name": "stdout",
          "text": [
            "Average 0.4661345969642485\n"
          ]
        }
      ]
    },
    {
      "cell_type": "markdown",
      "source": [
        "**Exersice**\n",
        "\n",
        "Code the following game: Print the message 'You win!' if two coin tosses are heads and print 'You lose!' otherwise."
      ],
      "metadata": {
        "id": "DoLXdGq8hR21"
      }
    },
    {
      "cell_type": "code",
      "source": [
        "# Solution Exercise\n",
        "## First Try (or attempt)\n",
        "\n",
        "First_attempt = np.random.rand()\n",
        "\n",
        "if First_attempt <=0.5:\n",
        "  print('Head', First_attempt)\n",
        "else:\n",
        "  print('Tails', First_attempt)\n",
        "\n",
        "## Second Try (or attempt)\n",
        "\n",
        "Second_attempt = np.random.rand()\n",
        "\n",
        "if Second_attempt <=0.5:\n",
        "  print('Head', Second_attempt)\n",
        "else:\n",
        "  print('Tails', Second_attempt)\n",
        "\n",
        "if First_attempt <=0.5 and Second_attempt <=0.5:\n",
        "  print('You Win!')\n",
        "else:\n",
        "  print('You Lose')\n"
      ],
      "metadata": {
        "colab": {
          "base_uri": "https://localhost:8080/"
        },
        "id": "DAX6eD4xhy7c",
        "outputId": "6c58732f-4b46-40a4-8fe6-22006a5e40e7"
      },
      "execution_count": 18,
      "outputs": [
        {
          "output_type": "stream",
          "name": "stdout",
          "text": [
            "Tails 0.8450903291038457\n",
            "Tails 0.6705409380526818\n",
            "You Lose\n"
          ]
        }
      ]
    },
    {
      "cell_type": "code",
      "source": [
        "# Solucion 3.0\n",
        "\n",
        "tries = np.random.rand(2)\n",
        "\n",
        "results = np.array([['Head', 'Tails']])\n",
        "indx1 = int(round(tries[0],0))\n",
        "indx2 = int(round(tries[1],0))\n",
        "\n",
        "if tries[0] <=0.5 and tries[1] <=0.5:\n",
        "  print('Head', tries[0])\n",
        "  print('Head', tries[1])\n",
        "  print('You win!')\n",
        "else:\n",
        "  print(results[0,indx1], tries[0])\n",
        "  print(results[0,indx2], tries[1])\n",
        "  print('You lose!')"
      ],
      "metadata": {
        "colab": {
          "base_uri": "https://localhost:8080/"
        },
        "id": "34Epe2z09QZI",
        "outputId": "45148933-2f8e-459b-aa6c-2f9075f0bcca"
      },
      "execution_count": 21,
      "outputs": [
        {
          "output_type": "stream",
          "name": "stdout",
          "text": [
            "Tails 0.8327323659587755\n",
            "Head 0.3621677185956419\n",
            "You lose!\n"
          ]
        }
      ]
    },
    {
      "cell_type": "code",
      "source": [
        "# One dimensional array\n",
        "np.random.rand(4)"
      ],
      "metadata": {
        "colab": {
          "base_uri": "https://localhost:8080/"
        },
        "id": "fkW553Lw_57l",
        "outputId": "6ff02c1f-fb51-41b4-c62d-66cc3ffdff0f"
      },
      "execution_count": 29,
      "outputs": [
        {
          "output_type": "execute_result",
          "data": {
            "text/plain": [
              "array([0.07520277, 0.96669549, 0.8675424 , 0.53829946])"
            ]
          },
          "metadata": {},
          "execution_count": 29
        }
      ]
    },
    {
      "cell_type": "code",
      "source": [
        "# Two dimensional arrays\n",
        "np.random.rand(7,8)"
      ],
      "metadata": {
        "colab": {
          "base_uri": "https://localhost:8080/"
        },
        "id": "fSMU034e-i1o",
        "outputId": "e3034d1c-bc94-4fe2-f379-5d2908107ccb"
      },
      "execution_count": 22,
      "outputs": [
        {
          "output_type": "execute_result",
          "data": {
            "text/plain": [
              "array([[2.38765305e-01, 8.34314370e-01, 5.03829589e-01, 8.69353860e-01,\n",
              "        4.28701209e-01, 5.44035028e-01, 3.65689356e-02, 3.59884249e-02],\n",
              "       [2.66681653e-02, 5.65304935e-01, 1.24244314e-01, 3.90240428e-01,\n",
              "        5.86570325e-01, 6.10754186e-01, 1.42867049e-01, 7.98679202e-01],\n",
              "       [8.66769702e-02, 7.59644620e-01, 8.67481132e-01, 4.50756359e-01,\n",
              "        3.75374545e-01, 4.32726894e-01, 3.20659165e-01, 7.02812556e-01],\n",
              "       [6.91761817e-01, 7.10063639e-01, 7.85299483e-02, 7.68859233e-01,\n",
              "        4.21732283e-01, 2.57594195e-01, 9.21439757e-01, 9.09423943e-01],\n",
              "       [5.46571164e-01, 7.63140457e-01, 2.90323638e-01, 3.02374594e-02,\n",
              "        5.92067220e-02, 1.41667293e-01, 3.38527705e-01, 9.08624775e-01],\n",
              "       [2.94570810e-03, 4.52610014e-01, 7.80733626e-01, 8.64098403e-01,\n",
              "        7.05502277e-01, 9.53390168e-02, 7.16944162e-01, 4.35080268e-01],\n",
              "       [2.23183863e-02, 4.18141760e-04, 6.80894829e-01, 5.52925430e-01,\n",
              "        2.60752755e-01, 6.38591256e-01, 4.53055155e-01, 6.30391051e-01]])"
            ]
          },
          "metadata": {},
          "execution_count": 22
        }
      ]
    },
    {
      "cell_type": "markdown",
      "source": [
        "### Uniform distribution over [a,b)"
      ],
      "metadata": {
        "id": "B6DRM1TA-qzI"
      }
    },
    {
      "cell_type": "code",
      "source": [
        "# One value\n",
        "np.random.uniform(low= 10, high = 0)"
      ],
      "metadata": {
        "colab": {
          "base_uri": "https://localhost:8080/"
        },
        "id": "xyXpYFIl-u6K",
        "outputId": "32365cea-a98c-49c1-bdc6-e895f2e48bbe"
      },
      "execution_count": 23,
      "outputs": [
        {
          "output_type": "execute_result",
          "data": {
            "text/plain": [
              "8.869383680098714"
            ]
          },
          "metadata": {},
          "execution_count": 23
        }
      ]
    },
    {
      "cell_type": "code",
      "source": [
        "# One dimensional\n",
        "np.random.uniform(low= 10, high = 5, size = 10)"
      ],
      "metadata": {
        "colab": {
          "base_uri": "https://localhost:8080/"
        },
        "id": "NA6hEbR3-zUI",
        "outputId": "df582f5e-713f-4c00-88ad-36b30db5d35c"
      },
      "execution_count": 24,
      "outputs": [
        {
          "output_type": "execute_result",
          "data": {
            "text/plain": [
              "array([8.82565497, 5.93336808, 9.55929111, 9.34312288, 7.99387007,\n",
              "       5.7178033 , 6.21008711, 5.1129698 , 9.61127458, 9.55158231])"
            ]
          },
          "metadata": {},
          "execution_count": 24
        }
      ]
    },
    {
      "cell_type": "code",
      "source": [
        "# Two dimensional\n",
        "\n",
        "np.random.uniform(low= -10, high = 0, size = (4,2))"
      ],
      "metadata": {
        "colab": {
          "base_uri": "https://localhost:8080/"
        },
        "id": "lKH4OmSh-28Y",
        "outputId": "2ee05d20-308a-4937-f311-a79f38c9bbd2"
      },
      "execution_count": 25,
      "outputs": [
        {
          "output_type": "execute_result",
          "data": {
            "text/plain": [
              "array([[-8.42238706, -4.84744089],\n",
              "       [-7.99588096, -4.31447224],\n",
              "       [-2.80368979, -0.44387021],\n",
              "       [-8.02965056, -1.79682586]])"
            ]
          },
          "metadata": {},
          "execution_count": 25
        }
      ]
    },
    {
      "cell_type": "markdown",
      "source": [
        "## 2.5. Normal Distribution"
      ],
      "metadata": {
        "id": "jOIAphL__P2d"
      }
    },
    {
      "cell_type": "code",
      "source": [
        "# Standard Normal - N ~ (0,1)\n",
        "np.random.randn()\n",
        "np.random.randn(8)\n",
        "np.random.randn(7,5)"
      ],
      "metadata": {
        "colab": {
          "base_uri": "https://localhost:8080/"
        },
        "id": "Oircc3ir_Q_t",
        "outputId": "849bbfdc-124e-4e1b-edaf-393c8285b082"
      },
      "execution_count": 26,
      "outputs": [
        {
          "output_type": "execute_result",
          "data": {
            "text/plain": [
              "array([[ 0.63217094, -0.39649796,  0.42276858, -0.36916434,  1.55944907],\n",
              "       [-0.90923423,  0.70019901,  1.16720372, -1.6908443 ,  0.306485  ],\n",
              "       [ 0.5261824 ,  0.56000262, -1.83877917, -1.01343961, -0.07153136],\n",
              "       [-0.39563617,  0.88670752,  1.10436215,  1.01229264,  1.81676016],\n",
              "       [-1.23613039,  2.64497621, -0.42915488,  0.63452572,  0.04250248],\n",
              "       [ 0.0767799 , -0.25222375, -1.55258789, -0.05377425, -0.18351609],\n",
              "       [ 1.22219164,  0.59986341,  1.09156021,  1.08658029,  1.72431299]])"
            ]
          },
          "metadata": {},
          "execution_count": 26
        }
      ]
    },
    {
      "cell_type": "code",
      "source": [
        "# Normal - N ~ (mu, sigma)\n",
        "\n",
        "mu = 0.001 # mean\n",
        "sigma = 0.1 # std. deviation\n",
        "\n",
        "np.random.normal(mu, sigma)\n",
        "np.random.normal(mu, sigma, size = 5)\n",
        "np.random.normal(mu, sigma, size = (3,1))"
      ],
      "metadata": {
        "colab": {
          "base_uri": "https://localhost:8080/"
        },
        "id": "TUJa_je1_YxJ",
        "outputId": "7b53e666-4f72-4737-dae1-06e39a406ab2"
      },
      "execution_count": 27,
      "outputs": [
        {
          "output_type": "execute_result",
          "data": {
            "text/plain": [
              "array([[-0.04328039],\n",
              "       [ 0.02316034],\n",
              "       [ 0.06492925]])"
            ]
          },
          "metadata": {},
          "execution_count": 27
        }
      ]
    },
    {
      "cell_type": "markdown",
      "source": [
        "### Random Integer"
      ],
      "metadata": {
        "id": "Og9BbG4s_fgC"
      }
    },
    {
      "cell_type": "code",
      "source": [
        "np.random.randint(low = 0, high = 10 ) # one value\n",
        "np.random.randint(low = 0, high = 10,  size = 8 ) # one dimension\n",
        "np.random.randint(low = 0, high = 10,  size = (2,3)) # Two dimensions"
      ],
      "metadata": {
        "colab": {
          "base_uri": "https://localhost:8080/"
        },
        "id": "zwFx8yAt_coY",
        "outputId": "2a24df2c-b641-49a8-b732-062c35fdf5fa"
      },
      "execution_count": 28,
      "outputs": [
        {
          "output_type": "execute_result",
          "data": {
            "text/plain": [
              "array([[8, 2, 3],\n",
              "       [5, 2, 6]])"
            ]
          },
          "metadata": {},
          "execution_count": 28
        }
      ]
    }
  ]
}