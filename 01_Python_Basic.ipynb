{
  "nbformat": 4,
  "nbformat_minor": 0,
  "metadata": {
    "colab": {
      "name": "01. Python Basic.ipynb",
      "provenance": [],
      "toc_visible": true,
      "authorship_tag": "ABX9TyNKxlfbAmhbX0PxULXJew+3",
      "include_colab_link": true
    },
    "kernelspec": {
      "name": "python3",
      "display_name": "Python 3"
    },
    "language_info": {
      "name": "python"
    }
  },
  "cells": [
    {
      "cell_type": "markdown",
      "metadata": {
        "id": "view-in-github",
        "colab_type": "text"
      },
      "source": [
        "<a href=\"https://colab.research.google.com/github/ValentinaGiraldo0/Code_in_class/blob/main/01_Python_Basic.ipynb\" target=\"_parent\"><img src=\"https://colab.research.google.com/assets/colab-badge.svg\" alt=\"Open In Colab\"/></a>"
      ]
    },
    {
      "cell_type": "markdown",
      "source": [
        "# **Introduction**\n",
        "\n",
        "We are going to start **promming**"
      ],
      "metadata": {
        "id": "qXsWGE-NretN"
      }
    },
    {
      "cell_type": "markdown",
      "source": [
        "# **1. What is Python?**\n",
        "\n",
        "It was 1991 and can do anything\n"
      ],
      "metadata": {
        "id": "Ejy70tOfofuO"
      }
    },
    {
      "cell_type": "markdown",
      "source": [
        "#  **2. Why Python?**\n",
        "It is free.\n",
        "It is open source. \n",
        "It is easy to learn."
      ],
      "metadata": {
        "id": "uCHTHRyyompW"
      }
    },
    {
      "cell_type": "markdown",
      "source": [
        "# **3. Getting Started**\n",
        " \n"
      ],
      "metadata": {
        "id": "WVnFdSuPpF5s"
      }
    },
    {
      "cell_type": "markdown",
      "source": [
        "## 3.1 Python as a calculator"
      ],
      "metadata": {
        "id": "o5isbmsrqDBD"
      }
    },
    {
      "cell_type": "code",
      "source": [
        "# Addition\n",
        "2+2\n"
      ],
      "metadata": {
        "colab": {
          "base_uri": "https://localhost:8080/"
        },
        "id": "wb0ix1YgqbiL",
        "outputId": "2309cfba-965c-48f5-cb39-e9a357dd8142"
      },
      "execution_count": null,
      "outputs": [
        {
          "output_type": "execute_result",
          "data": {
            "text/plain": [
              "4"
            ]
          },
          "metadata": {},
          "execution_count": 3
        }
      ]
    },
    {
      "cell_type": "code",
      "source": [
        "# Subtration\n",
        "2-2"
      ],
      "metadata": {
        "colab": {
          "base_uri": "https://localhost:8080/"
        },
        "id": "xQd56BVLqgHF",
        "outputId": "042f6223-7d25-4f7e-c458-9142809ee9ff"
      },
      "execution_count": null,
      "outputs": [
        {
          "output_type": "execute_result",
          "data": {
            "text/plain": [
              "0"
            ]
          },
          "metadata": {},
          "execution_count": 2
        }
      ]
    },
    {
      "cell_type": "code",
      "source": [
        "# Multiplication\n",
        "7*14"
      ],
      "metadata": {
        "colab": {
          "base_uri": "https://localhost:8080/"
        },
        "id": "jfuOs0hsqsE7",
        "outputId": "e6cba492-fbec-41c5-fd78-5d054c130b21"
      },
      "execution_count": null,
      "outputs": [
        {
          "output_type": "execute_result",
          "data": {
            "text/plain": [
              "98"
            ]
          },
          "metadata": {},
          "execution_count": 4
        }
      ]
    },
    {
      "cell_type": "code",
      "source": [
        "# Exponental\n",
        "5**3\n"
      ],
      "metadata": {
        "colab": {
          "base_uri": "https://localhost:8080/"
        },
        "id": "2Kgoc9NGq9fb",
        "outputId": "73021320-363a-4095-deff-95fdfdf8c689"
      },
      "execution_count": null,
      "outputs": [
        {
          "output_type": "execute_result",
          "data": {
            "text/plain": [
              "125"
            ]
          },
          "metadata": {},
          "execution_count": 5
        }
      ]
    },
    {
      "cell_type": "code",
      "source": [
        "# Division\n",
        "10/3\n"
      ],
      "metadata": {
        "colab": {
          "base_uri": "https://localhost:8080/"
        },
        "id": "zhLjSgHtrFFk",
        "outputId": "a56b5844-205e-4b5d-9212-bcdce69300da"
      },
      "execution_count": null,
      "outputs": [
        {
          "output_type": "execute_result",
          "data": {
            "text/plain": [
              "3.3333333333333335"
            ]
          },
          "metadata": {},
          "execution_count": 6
        }
      ]
    },
    {
      "cell_type": "code",
      "source": [
        "# Interger Division\n",
        "10//3"
      ],
      "metadata": {
        "colab": {
          "base_uri": "https://localhost:8080/"
        },
        "id": "RyTEPEeXrJ8h",
        "outputId": "d8a0d22c-b6d6-4fd5-942f-0d6164d77568"
      },
      "execution_count": null,
      "outputs": [
        {
          "output_type": "execute_result",
          "data": {
            "text/plain": [
              "3"
            ]
          },
          "metadata": {},
          "execution_count": 7
        }
      ]
    },
    {
      "cell_type": "markdown",
      "source": [
        "## 3.2. Composite Operations \n",
        "\n",
        "*Operator precedence*\n",
        "2*3+7\n",
        "\n",
        "First is multiplication ir divisio, then addicion or sustration\n",
        "* or /, then + or -\n"
      ],
      "metadata": {
        "id": "oFVrMbIuMRrY"
      }
    },
    {
      "cell_type": "code",
      "source": [
        "# Example\n",
        "30-5*4/2+7\n"
      ],
      "metadata": {
        "colab": {
          "base_uri": "https://localhost:8080/"
        },
        "id": "YKhgz2l-M87i",
        "outputId": "d0f901f0-823f-47b7-f95a-469c6e46ec27"
      },
      "execution_count": null,
      "outputs": [
        {
          "output_type": "execute_result",
          "data": {
            "text/plain": [
              "27.0"
            ]
          },
          "metadata": {},
          "execution_count": 2
        }
      ]
    },
    {
      "cell_type": "markdown",
      "source": [
        "Parentheses `( )` allows to modify operator precedence.\n",
        "*texto en cursiva*\n"
      ],
      "metadata": {
        "id": "CJN4WyB5Nllr"
      }
    },
    {
      "cell_type": "code",
      "source": [
        "## Example \n",
        "(30-5)*4/2+7"
      ],
      "metadata": {
        "colab": {
          "base_uri": "https://localhost:8080/"
        },
        "id": "ACXy3XJpOAay",
        "outputId": "cabf2acd-a4a0-410f-e978-2dfe9d8947a0"
      },
      "execution_count": null,
      "outputs": [
        {
          "output_type": "execute_result",
          "data": {
            "text/plain": [
              "57.0"
            ]
          },
          "metadata": {},
          "execution_count": 3
        }
      ]
    },
    {
      "cell_type": "markdown",
      "source": [
        "## 3.3. Integrer and Real Numbers\n",
        "| Math | Code |\n",
        "|------|------|\n",
        "| Integers | Integers (int) |\n",
        "| Real     | Floar point (float) |\n"
      ],
      "metadata": {
        "id": "3v4HxjkVOwzz"
      }
    },
    {
      "cell_type": "markdown",
      "source": [
        "The *funtion* `type()` let's us check\n",
        "\n"
      ],
      "metadata": {
        "id": "P0TnqZu2QU6Q"
      }
    },
    {
      "cell_type": "code",
      "source": [
        "type(26.5)"
      ],
      "metadata": {
        "colab": {
          "base_uri": "https://localhost:8080/"
        },
        "id": "h6T2p7RtRu_j",
        "outputId": "d4986fcc-b12a-47c0-d875-b577607d31ac"
      },
      "execution_count": null,
      "outputs": [
        {
          "output_type": "execute_result",
          "data": {
            "text/plain": [
              "float"
            ]
          },
          "metadata": {},
          "execution_count": 5
        }
      ]
    },
    {
      "cell_type": "markdown",
      "source": [
        "### Scientific notation\n",
        "The \"form\" = `zz10^y` It is wriyte as xey"
      ],
      "metadata": {
        "id": "p0hQSCemLfRN"
      }
    },
    {
      "cell_type": "code",
      "source": [
        "# Example \n",
        "1.52e2"
      ],
      "metadata": {
        "colab": {
          "base_uri": "https://localhost:8080/"
        },
        "id": "3tov7JzDLws7",
        "outputId": "ef2fcf8e-d496-4f42-c9dd-5012427ada0c"
      },
      "execution_count": null,
      "outputs": [
        {
          "output_type": "execute_result",
          "data": {
            "text/plain": [
              "152.0"
            ]
          },
          "metadata": {},
          "execution_count": 1
        }
      ]
    },
    {
      "cell_type": "markdown",
      "source": [
        "What happen is you to represenre `0.25`whith scientific notation?"
      ],
      "metadata": {
        "id": "XzXjutudL5Dk"
      }
    },
    {
      "cell_type": "code",
      "source": [
        "# Answer\n",
        "0.025e1\n",
        "2.5e-1 #R\n",
        "25e-2"
      ],
      "metadata": {
        "colab": {
          "base_uri": "https://localhost:8080/"
        },
        "id": "qa4BbfBtMGWz",
        "outputId": "df8437fc-3d07-4e11-a344-c5be8d634efe"
      },
      "execution_count": null,
      "outputs": [
        {
          "output_type": "execute_result",
          "data": {
            "text/plain": [
              "0.25"
            ]
          },
          "metadata": {},
          "execution_count": 2
        }
      ]
    },
    {
      "cell_type": "code",
      "source": [
        "# Example\n",
        "1.5e5"
      ],
      "metadata": {
        "colab": {
          "base_uri": "https://localhost:8080/"
        },
        "id": "yjU3H9wuMYc8",
        "outputId": "dfa720d6-1b47-4654-b553-c428d6c60909"
      },
      "execution_count": null,
      "outputs": [
        {
          "output_type": "execute_result",
          "data": {
            "text/plain": [
              "150000.0"
            ]
          },
          "metadata": {},
          "execution_count": 4
        }
      ]
    },
    {
      "cell_type": "markdown",
      "source": [
        "### Transformation"
      ],
      "metadata": {
        "id": "1OAAIt7XNHU8"
      }
    },
    {
      "cell_type": "code",
      "source": [
        "# Example int to float\n",
        "float(5)"
      ],
      "metadata": {
        "colab": {
          "base_uri": "https://localhost:8080/"
        },
        "id": "xUPH_O22NLXd",
        "outputId": "b5ebec1d-8116-4e05-9d31-8a2f905d6afe"
      },
      "execution_count": null,
      "outputs": [
        {
          "output_type": "execute_result",
          "data": {
            "text/plain": [
              "5.0"
            ]
          },
          "metadata": {},
          "execution_count": 5
        }
      ]
    },
    {
      "cell_type": "code",
      "source": [
        "# Example flot to int\n",
        "int(7.25)"
      ],
      "metadata": {
        "colab": {
          "base_uri": "https://localhost:8080/"
        },
        "id": "JV6HrdELNY5r",
        "outputId": "76aad126-5f07-46a3-8d9c-e12543139f8b"
      },
      "execution_count": null,
      "outputs": [
        {
          "output_type": "execute_result",
          "data": {
            "text/plain": [
              "7"
            ]
          },
          "metadata": {},
          "execution_count": 6
        }
      ]
    },
    {
      "cell_type": "markdown",
      "source": [
        "## 3.4. Basic functions\n",
        "\n"
      ],
      "metadata": {
        "id": "0n886MC4Nv56"
      }
    },
    {
      "cell_type": "markdown",
      "source": [
        "### **Print**\n",
        "\n"
      ],
      "metadata": {
        "id": "0TeeTKCWONxD"
      }
    },
    {
      "cell_type": "code",
      "source": [
        "# Number Example\n",
        "print(2022,8,11)"
      ],
      "metadata": {
        "colab": {
          "base_uri": "https://localhost:8080/"
        },
        "id": "LiRUi2qZOhqa",
        "outputId": "52582347-5131-4acc-b1bb-2cf65d9ced66"
      },
      "execution_count": null,
      "outputs": [
        {
          "output_type": "stream",
          "name": "stdout",
          "text": [
            "2022 8 11\n"
          ]
        }
      ]
    },
    {
      "cell_type": "code",
      "source": [
        "# Spring (alphabet) example\n",
        "print('Valentina')"
      ],
      "metadata": {
        "colab": {
          "base_uri": "https://localhost:8080/"
        },
        "id": "qJ9aZUHwPUMC",
        "outputId": "cfd9e796-9970-4517-a6e8-82129d3f7e55"
      },
      "execution_count": null,
      "outputs": [
        {
          "output_type": "stream",
          "name": "stdout",
          "text": [
            "Valentina\n"
          ]
        }
      ]
    },
    {
      "cell_type": "code",
      "source": [
        "# More complicated string examples\n",
        "print('First Name: Valentina','Last Name: Giraldo')\n",
        "print('First Name: Valentina\\tLast Name: Giraldo')\n",
        "print('First Name: Valentina\\nLast Name: Giraldo')"
      ],
      "metadata": {
        "colab": {
          "base_uri": "https://localhost:8080/"
        },
        "id": "NPGtOmL-QIh6",
        "outputId": "ff40beea-d254-4245-cacc-0a2be4f5cf07"
      },
      "execution_count": null,
      "outputs": [
        {
          "output_type": "stream",
          "name": "stdout",
          "text": [
            "First Name: Valentina Last Name: Giraldo\n",
            "First Name: Valentina\tLast Name: Giraldo\n",
            "First Name: Valentina\n",
            "Last Name: Giraldo\n"
          ]
        }
      ]
    },
    {
      "cell_type": "code",
      "source": [
        "# More complicated string examples\n",
        "print('First Name:','Valentina','Last Name:','Giraldo')\n"
      ],
      "metadata": {
        "colab": {
          "base_uri": "https://localhost:8080/"
        },
        "id": "h2WtEfuFRM72",
        "outputId": "2112dede-ff4b-4c3c-8e58-d1665672a9a7"
      },
      "execution_count": null,
      "outputs": [
        {
          "output_type": "stream",
          "name": "stdout",
          "text": [
            "First Name: Valentina Last Name: Giraldo\n"
          ]
        }
      ]
    },
    {
      "cell_type": "code",
      "source": [
        "# More complicated number example\n",
        "for i in range (0,10): print(i)"
      ],
      "metadata": {
        "colab": {
          "base_uri": "https://localhost:8080/"
        },
        "id": "I1wD3jbpSFxV",
        "outputId": "6539c4bd-48dc-45e5-a10e-2f56cf364b67"
      },
      "execution_count": null,
      "outputs": [
        {
          "output_type": "stream",
          "name": "stdout",
          "text": [
            "0\n",
            "1\n",
            "2\n",
            "3\n",
            "4\n",
            "5\n",
            "6\n",
            "7\n",
            "8\n",
            "9\n"
          ]
        }
      ]
    },
    {
      "cell_type": "code",
      "source": [
        "# Combine string and numbers\n",
        "print('My favorit number is', 21, 'because aja')"
      ],
      "metadata": {
        "colab": {
          "base_uri": "https://localhost:8080/"
        },
        "id": "F1APvw0aTLDb",
        "outputId": "6c8505ce-3aae-4d8c-8054-9f2017631992"
      },
      "execution_count": null,
      "outputs": [
        {
          "output_type": "stream",
          "name": "stdout",
          "text": [
            "My favorit number is 21 because aja\n"
          ]
        }
      ]
    },
    {
      "cell_type": "markdown",
      "source": [
        "### **Round**\n"
      ],
      "metadata": {
        "id": "WZZOYb_7TiJD"
      }
    },
    {
      "cell_type": "code",
      "source": [
        "# A simple example\n",
        "round(1.253,2)"
      ],
      "metadata": {
        "colab": {
          "base_uri": "https://localhost:8080/"
        },
        "id": "9AzHKi_1TlMz",
        "outputId": "25d4aa7b-b3bb-4403-a7e7-d2beb9269ed4"
      },
      "execution_count": null,
      "outputs": [
        {
          "output_type": "execute_result",
          "data": {
            "text/plain": [
              "1.25"
            ]
          },
          "metadata": {},
          "execution_count": 21
        }
      ]
    },
    {
      "cell_type": "code",
      "source": [
        "# Time to practice \n",
        "# Consider the number 7.2354\n",
        "# Print every result for rounding from 3 to 0 positions\n",
        "print('Round with',0, 'decimals', round(7.2354,0))\n",
        "print('Round with',1, 'decimals', round(7.2354,1))\n",
        "print('Round with',2, 'decimals', round(7.2354,2))\n",
        "print('Round with',3, 'decimals', round(7.2354,3))"
      ],
      "metadata": {
        "colab": {
          "base_uri": "https://localhost:8080/"
        },
        "id": "TODFBATfUHSj",
        "outputId": "a12a0ef7-6def-48a9-80dc-3d75c762710c"
      },
      "execution_count": null,
      "outputs": [
        {
          "output_type": "stream",
          "name": "stdout",
          "text": [
            "Round with 0 decimals 7.0\n",
            "Round with 1 decimals 7.2\n",
            "Round with 2 decimals 7.24\n",
            "Round with 3 decimals 7.235\n"
          ]
        }
      ]
    },
    {
      "cell_type": "code",
      "source": [
        "# If we for loops\n",
        "for i in range(0,4): print('Round with',i, 'decimals', round(7.2354,i))"
      ],
      "metadata": {
        "colab": {
          "base_uri": "https://localhost:8080/"
        },
        "id": "JkmgvzaRYkQn",
        "outputId": "4ebcb5fe-eb25-457b-9fcb-fe9c4aac146d"
      },
      "execution_count": null,
      "outputs": [
        {
          "output_type": "stream",
          "name": "stdout",
          "text": [
            "Round with 0 decimals 7.0\n",
            "Round with 1 decimals 7.2\n",
            "Round with 2 decimals 7.24\n",
            "Round with 3 decimals 7.235\n"
          ]
        }
      ]
    },
    {
      "cell_type": "code",
      "source": [
        "# Practice\n",
        "# Print the firts 100 multiples of the number 2\n",
        "print('This is the list of the 100th multiples of 2')\n",
        "for i in range(1,101): print('position:' ,i, 'Multiples:', 2*i)"
      ],
      "metadata": {
        "colab": {
          "base_uri": "https://localhost:8080/"
        },
        "id": "5yYUL0wqZZ7W",
        "outputId": "007d944d-6774-46b8-87e3-1d2e5997174b"
      },
      "execution_count": null,
      "outputs": [
        {
          "output_type": "stream",
          "name": "stdout",
          "text": [
            "This is the list of the 100th multiples of 2\n",
            "position: 1 Multiples: 2\n",
            "position: 2 Multiples: 4\n",
            "position: 3 Multiples: 6\n",
            "position: 4 Multiples: 8\n",
            "position: 5 Multiples: 10\n",
            "position: 6 Multiples: 12\n",
            "position: 7 Multiples: 14\n",
            "position: 8 Multiples: 16\n",
            "position: 9 Multiples: 18\n",
            "position: 10 Multiples: 20\n",
            "position: 11 Multiples: 22\n",
            "position: 12 Multiples: 24\n",
            "position: 13 Multiples: 26\n",
            "position: 14 Multiples: 28\n",
            "position: 15 Multiples: 30\n",
            "position: 16 Multiples: 32\n",
            "position: 17 Multiples: 34\n",
            "position: 18 Multiples: 36\n",
            "position: 19 Multiples: 38\n",
            "position: 20 Multiples: 40\n",
            "position: 21 Multiples: 42\n",
            "position: 22 Multiples: 44\n",
            "position: 23 Multiples: 46\n",
            "position: 24 Multiples: 48\n",
            "position: 25 Multiples: 50\n",
            "position: 26 Multiples: 52\n",
            "position: 27 Multiples: 54\n",
            "position: 28 Multiples: 56\n",
            "position: 29 Multiples: 58\n",
            "position: 30 Multiples: 60\n",
            "position: 31 Multiples: 62\n",
            "position: 32 Multiples: 64\n",
            "position: 33 Multiples: 66\n",
            "position: 34 Multiples: 68\n",
            "position: 35 Multiples: 70\n",
            "position: 36 Multiples: 72\n",
            "position: 37 Multiples: 74\n",
            "position: 38 Multiples: 76\n",
            "position: 39 Multiples: 78\n",
            "position: 40 Multiples: 80\n",
            "position: 41 Multiples: 82\n",
            "position: 42 Multiples: 84\n",
            "position: 43 Multiples: 86\n",
            "position: 44 Multiples: 88\n",
            "position: 45 Multiples: 90\n",
            "position: 46 Multiples: 92\n",
            "position: 47 Multiples: 94\n",
            "position: 48 Multiples: 96\n",
            "position: 49 Multiples: 98\n",
            "position: 50 Multiples: 100\n",
            "position: 51 Multiples: 102\n",
            "position: 52 Multiples: 104\n",
            "position: 53 Multiples: 106\n",
            "position: 54 Multiples: 108\n",
            "position: 55 Multiples: 110\n",
            "position: 56 Multiples: 112\n",
            "position: 57 Multiples: 114\n",
            "position: 58 Multiples: 116\n",
            "position: 59 Multiples: 118\n",
            "position: 60 Multiples: 120\n",
            "position: 61 Multiples: 122\n",
            "position: 62 Multiples: 124\n",
            "position: 63 Multiples: 126\n",
            "position: 64 Multiples: 128\n",
            "position: 65 Multiples: 130\n",
            "position: 66 Multiples: 132\n",
            "position: 67 Multiples: 134\n",
            "position: 68 Multiples: 136\n",
            "position: 69 Multiples: 138\n",
            "position: 70 Multiples: 140\n",
            "position: 71 Multiples: 142\n",
            "position: 72 Multiples: 144\n",
            "position: 73 Multiples: 146\n",
            "position: 74 Multiples: 148\n",
            "position: 75 Multiples: 150\n",
            "position: 76 Multiples: 152\n",
            "position: 77 Multiples: 154\n",
            "position: 78 Multiples: 156\n",
            "position: 79 Multiples: 158\n",
            "position: 80 Multiples: 160\n",
            "position: 81 Multiples: 162\n",
            "position: 82 Multiples: 164\n",
            "position: 83 Multiples: 166\n",
            "position: 84 Multiples: 168\n",
            "position: 85 Multiples: 170\n",
            "position: 86 Multiples: 172\n",
            "position: 87 Multiples: 174\n",
            "position: 88 Multiples: 176\n",
            "position: 89 Multiples: 178\n",
            "position: 90 Multiples: 180\n",
            "position: 91 Multiples: 182\n",
            "position: 92 Multiples: 184\n",
            "position: 93 Multiples: 186\n",
            "position: 94 Multiples: 188\n",
            "position: 95 Multiples: 190\n",
            "position: 96 Multiples: 192\n",
            "position: 97 Multiples: 194\n",
            "position: 98 Multiples: 196\n",
            "position: 99 Multiples: 198\n",
            "position: 100 Multiples: 200\n"
          ]
        }
      ]
    },
    {
      "cell_type": "markdown",
      "source": [
        ""
      ],
      "metadata": {
        "id": "SeqjFIz-X8UB"
      }
    },
    {
      "cell_type": "markdown",
      "source": [
        "### **Absolute Value**"
      ],
      "metadata": {
        "id": "WT2BXxv2lcnS"
      }
    },
    {
      "cell_type": "code",
      "source": [
        "# Example\n",
        "abs(-25)"
      ],
      "metadata": {
        "colab": {
          "base_uri": "https://localhost:8080/"
        },
        "id": "yFX2-M4-lf1r",
        "outputId": "3dd4347e-9b7e-4a77-cb3b-bbc04c461fc0"
      },
      "execution_count": null,
      "outputs": [
        {
          "output_type": "execute_result",
          "data": {
            "text/plain": [
              "25"
            ]
          },
          "metadata": {},
          "execution_count": 5
        }
      ]
    }
  ]
}