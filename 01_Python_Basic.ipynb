{
  "nbformat": 4,
  "nbformat_minor": 0,
  "metadata": {
    "colab": {
      "name": "01. Python Basic.ipynb",
      "provenance": [],
      "toc_visible": true,
      "authorship_tag": "ABX9TyPNZQRxKDzkNISNgHUbGHH7",
      "include_colab_link": true
    },
    "kernelspec": {
      "name": "python3",
      "display_name": "Python 3"
    },
    "language_info": {
      "name": "python"
    }
  },
  "cells": [
    {
      "cell_type": "markdown",
      "metadata": {
        "id": "view-in-github",
        "colab_type": "text"
      },
      "source": [
        "<a href=\"https://colab.research.google.com/github/ValentinaGiraldo0/Code_in_class/blob/main/01_Python_Basic.ipynb\" target=\"_parent\"><img src=\"https://colab.research.google.com/assets/colab-badge.svg\" alt=\"Open In Colab\"/></a>"
      ]
    },
    {
      "cell_type": "markdown",
      "source": [
        "# **Introduction**\n",
        "\n",
        "We are going to start **promming**"
      ],
      "metadata": {
        "id": "qXsWGE-NretN"
      }
    },
    {
      "cell_type": "markdown",
      "source": [
        "# **1. What is Python?**\n",
        "\n",
        "It was 1991 and can do anything\n"
      ],
      "metadata": {
        "id": "Ejy70tOfofuO"
      }
    },
    {
      "cell_type": "markdown",
      "source": [
        "#  **2. Why Python?**\n",
        "It is free.\n",
        "It is open source. \n",
        "It is easy to learn."
      ],
      "metadata": {
        "id": "uCHTHRyyompW"
      }
    },
    {
      "cell_type": "markdown",
      "source": [
        "# **3. Getting Started**\n",
        " \n"
      ],
      "metadata": {
        "id": "WVnFdSuPpF5s"
      }
    },
    {
      "cell_type": "markdown",
      "source": [
        "## 3.1 Python as a calculator"
      ],
      "metadata": {
        "id": "o5isbmsrqDBD"
      }
    },
    {
      "cell_type": "code",
      "source": [
        "# Addition\n",
        "2+2\n"
      ],
      "metadata": {
        "colab": {
          "base_uri": "https://localhost:8080/"
        },
        "id": "wb0ix1YgqbiL",
        "outputId": "2309cfba-965c-48f5-cb39-e9a357dd8142"
      },
      "execution_count": null,
      "outputs": [
        {
          "output_type": "execute_result",
          "data": {
            "text/plain": [
              "4"
            ]
          },
          "metadata": {},
          "execution_count": 3
        }
      ]
    },
    {
      "cell_type": "code",
      "source": [
        "# Subtration\n",
        "2-2"
      ],
      "metadata": {
        "colab": {
          "base_uri": "https://localhost:8080/"
        },
        "id": "xQd56BVLqgHF",
        "outputId": "042f6223-7d25-4f7e-c458-9142809ee9ff"
      },
      "execution_count": null,
      "outputs": [
        {
          "output_type": "execute_result",
          "data": {
            "text/plain": [
              "0"
            ]
          },
          "metadata": {},
          "execution_count": 2
        }
      ]
    },
    {
      "cell_type": "code",
      "source": [
        "# Multiplication\n",
        "7*14"
      ],
      "metadata": {
        "colab": {
          "base_uri": "https://localhost:8080/"
        },
        "id": "jfuOs0hsqsE7",
        "outputId": "e6cba492-fbec-41c5-fd78-5d054c130b21"
      },
      "execution_count": null,
      "outputs": [
        {
          "output_type": "execute_result",
          "data": {
            "text/plain": [
              "98"
            ]
          },
          "metadata": {},
          "execution_count": 4
        }
      ]
    },
    {
      "cell_type": "code",
      "source": [
        "# Exponental\n",
        "5**3\n"
      ],
      "metadata": {
        "colab": {
          "base_uri": "https://localhost:8080/"
        },
        "id": "2Kgoc9NGq9fb",
        "outputId": "73021320-363a-4095-deff-95fdfdf8c689"
      },
      "execution_count": null,
      "outputs": [
        {
          "output_type": "execute_result",
          "data": {
            "text/plain": [
              "125"
            ]
          },
          "metadata": {},
          "execution_count": 5
        }
      ]
    },
    {
      "cell_type": "code",
      "source": [
        "# Division\n",
        "10/3\n"
      ],
      "metadata": {
        "colab": {
          "base_uri": "https://localhost:8080/"
        },
        "id": "zhLjSgHtrFFk",
        "outputId": "a56b5844-205e-4b5d-9212-bcdce69300da"
      },
      "execution_count": null,
      "outputs": [
        {
          "output_type": "execute_result",
          "data": {
            "text/plain": [
              "3.3333333333333335"
            ]
          },
          "metadata": {},
          "execution_count": 6
        }
      ]
    },
    {
      "cell_type": "code",
      "source": [
        "# Interger Division\n",
        "10//3"
      ],
      "metadata": {
        "colab": {
          "base_uri": "https://localhost:8080/"
        },
        "id": "RyTEPEeXrJ8h",
        "outputId": "d8a0d22c-b6d6-4fd5-942f-0d6164d77568"
      },
      "execution_count": null,
      "outputs": [
        {
          "output_type": "execute_result",
          "data": {
            "text/plain": [
              "3"
            ]
          },
          "metadata": {},
          "execution_count": 7
        }
      ]
    },
    {
      "cell_type": "markdown",
      "source": [
        "## 3.2. Composite Operations \n",
        "\n",
        "*Operator precedence*\n",
        "2*3+7\n",
        "\n",
        "First is multiplication ir divisio, then addicion or sustration\n",
        "* or /, then + or -\n"
      ],
      "metadata": {
        "id": "oFVrMbIuMRrY"
      }
    },
    {
      "cell_type": "code",
      "source": [
        "# Example\n",
        "30-5*4/2+7\n"
      ],
      "metadata": {
        "colab": {
          "base_uri": "https://localhost:8080/"
        },
        "id": "YKhgz2l-M87i",
        "outputId": "d0f901f0-823f-47b7-f95a-469c6e46ec27"
      },
      "execution_count": null,
      "outputs": [
        {
          "output_type": "execute_result",
          "data": {
            "text/plain": [
              "27.0"
            ]
          },
          "metadata": {},
          "execution_count": 2
        }
      ]
    },
    {
      "cell_type": "markdown",
      "source": [
        "Parentheses `( )` allows to modify operator precedence.\n",
        "*texto en cursiva*\n"
      ],
      "metadata": {
        "id": "CJN4WyB5Nllr"
      }
    },
    {
      "cell_type": "code",
      "source": [
        "## Example \n",
        "(30-5)*4/2+7"
      ],
      "metadata": {
        "colab": {
          "base_uri": "https://localhost:8080/"
        },
        "id": "ACXy3XJpOAay",
        "outputId": "cabf2acd-a4a0-410f-e978-2dfe9d8947a0"
      },
      "execution_count": null,
      "outputs": [
        {
          "output_type": "execute_result",
          "data": {
            "text/plain": [
              "57.0"
            ]
          },
          "metadata": {},
          "execution_count": 3
        }
      ]
    },
    {
      "cell_type": "markdown",
      "source": [
        "## 3.3. Integrer and Real Numbers\n",
        "| Math | Code |\n",
        "|------|------|\n",
        "| Integers | Integers (int) |\n",
        "| Real     | Floar point (float) |\n"
      ],
      "metadata": {
        "id": "3v4HxjkVOwzz"
      }
    },
    {
      "cell_type": "markdown",
      "source": [
        "The *funtion* `type()` let's us check\n",
        "\n"
      ],
      "metadata": {
        "id": "P0TnqZu2QU6Q"
      }
    },
    {
      "cell_type": "code",
      "source": [
        "type(26.5)"
      ],
      "metadata": {
        "colab": {
          "base_uri": "https://localhost:8080/"
        },
        "id": "h6T2p7RtRu_j",
        "outputId": "d4986fcc-b12a-47c0-d875-b577607d31ac"
      },
      "execution_count": null,
      "outputs": [
        {
          "output_type": "execute_result",
          "data": {
            "text/plain": [
              "float"
            ]
          },
          "metadata": {},
          "execution_count": 5
        }
      ]
    },
    {
      "cell_type": "markdown",
      "source": [
        "### Scientific notation\n",
        "The \"form\" = `zz10^y` It is wriyte as xey"
      ],
      "metadata": {
        "id": "p0hQSCemLfRN"
      }
    },
    {
      "cell_type": "code",
      "source": [
        "# Example \n",
        "1.52e2"
      ],
      "metadata": {
        "colab": {
          "base_uri": "https://localhost:8080/"
        },
        "id": "3tov7JzDLws7",
        "outputId": "ef2fcf8e-d496-4f42-c9dd-5012427ada0c"
      },
      "execution_count": 1,
      "outputs": [
        {
          "output_type": "execute_result",
          "data": {
            "text/plain": [
              "152.0"
            ]
          },
          "metadata": {},
          "execution_count": 1
        }
      ]
    },
    {
      "cell_type": "markdown",
      "source": [
        "What happen is you to represenre `0.25`whith scientific notation?"
      ],
      "metadata": {
        "id": "XzXjutudL5Dk"
      }
    },
    {
      "cell_type": "code",
      "source": [
        "# Answer\n",
        "0.025e1\n",
        "2.5e-1 #R\n",
        "25e-2"
      ],
      "metadata": {
        "colab": {
          "base_uri": "https://localhost:8080/"
        },
        "id": "qa4BbfBtMGWz",
        "outputId": "df8437fc-3d07-4e11-a344-c5be8d634efe"
      },
      "execution_count": 2,
      "outputs": [
        {
          "output_type": "execute_result",
          "data": {
            "text/plain": [
              "0.25"
            ]
          },
          "metadata": {},
          "execution_count": 2
        }
      ]
    },
    {
      "cell_type": "code",
      "source": [
        "# Example\n",
        "1.5e5"
      ],
      "metadata": {
        "colab": {
          "base_uri": "https://localhost:8080/"
        },
        "id": "yjU3H9wuMYc8",
        "outputId": "dfa720d6-1b47-4654-b553-c428d6c60909"
      },
      "execution_count": 4,
      "outputs": [
        {
          "output_type": "execute_result",
          "data": {
            "text/plain": [
              "150000.0"
            ]
          },
          "metadata": {},
          "execution_count": 4
        }
      ]
    },
    {
      "cell_type": "markdown",
      "source": [
        "### Transformation"
      ],
      "metadata": {
        "id": "1OAAIt7XNHU8"
      }
    },
    {
      "cell_type": "code",
      "source": [
        "# Example int to float\n",
        "float(5)"
      ],
      "metadata": {
        "colab": {
          "base_uri": "https://localhost:8080/"
        },
        "id": "xUPH_O22NLXd",
        "outputId": "b5ebec1d-8116-4e05-9d31-8a2f905d6afe"
      },
      "execution_count": 5,
      "outputs": [
        {
          "output_type": "execute_result",
          "data": {
            "text/plain": [
              "5.0"
            ]
          },
          "metadata": {},
          "execution_count": 5
        }
      ]
    },
    {
      "cell_type": "code",
      "source": [
        "# Example flot to int\n",
        "int(7.25)"
      ],
      "metadata": {
        "colab": {
          "base_uri": "https://localhost:8080/"
        },
        "id": "JV6HrdELNY5r",
        "outputId": "76aad126-5f07-46a3-8d9c-e12543139f8b"
      },
      "execution_count": 6,
      "outputs": [
        {
          "output_type": "execute_result",
          "data": {
            "text/plain": [
              "7"
            ]
          },
          "metadata": {},
          "execution_count": 6
        }
      ]
    },
    {
      "cell_type": "markdown",
      "source": [
        "## 3.4. Basic functions\n",
        "\n"
      ],
      "metadata": {
        "id": "0n886MC4Nv56"
      }
    },
    {
      "cell_type": "markdown",
      "source": [
        "### **Print**\n",
        "\n"
      ],
      "metadata": {
        "id": "0TeeTKCWONxD"
      }
    },
    {
      "cell_type": "code",
      "source": [
        "# Number Example\n",
        "print(2022,8,11)"
      ],
      "metadata": {
        "colab": {
          "base_uri": "https://localhost:8080/"
        },
        "id": "LiRUi2qZOhqa",
        "outputId": "52582347-5131-4acc-b1bb-2cf65d9ced66"
      },
      "execution_count": 9,
      "outputs": [
        {
          "output_type": "stream",
          "name": "stdout",
          "text": [
            "2022 8 11\n"
          ]
        }
      ]
    },
    {
      "cell_type": "code",
      "source": [
        "# Spring (alphabet) example\n",
        "print('Valentina')"
      ],
      "metadata": {
        "colab": {
          "base_uri": "https://localhost:8080/"
        },
        "id": "qJ9aZUHwPUMC",
        "outputId": "cfd9e796-9970-4517-a6e8-82129d3f7e55"
      },
      "execution_count": 12,
      "outputs": [
        {
          "output_type": "stream",
          "name": "stdout",
          "text": [
            "Valentina\n"
          ]
        }
      ]
    },
    {
      "cell_type": "code",
      "source": [
        "# More complicated string examples\n",
        "print('First Name: Valentina','Last Name: Giraldo')\n",
        "print('First Name: Valentina\\tLast Name: Giraldo')\n",
        "print('First Name: Valentina\\nLast Name: Giraldo')"
      ],
      "metadata": {
        "colab": {
          "base_uri": "https://localhost:8080/"
        },
        "id": "NPGtOmL-QIh6",
        "outputId": "ff40beea-d254-4245-cacc-0a2be4f5cf07"
      },
      "execution_count": 15,
      "outputs": [
        {
          "output_type": "stream",
          "name": "stdout",
          "text": [
            "First Name: Valentina Last Name: Giraldo\n",
            "First Name: Valentina\tLast Name: Giraldo\n",
            "First Name: Valentina\n",
            "Last Name: Giraldo\n"
          ]
        }
      ]
    },
    {
      "cell_type": "code",
      "source": [
        "# More complicated string examples\n",
        "print('First Name:','Valentina','Last Name:','Giraldo')\n"
      ],
      "metadata": {
        "colab": {
          "base_uri": "https://localhost:8080/"
        },
        "id": "h2WtEfuFRM72",
        "outputId": "2112dede-ff4b-4c3c-8e58-d1665672a9a7"
      },
      "execution_count": 16,
      "outputs": [
        {
          "output_type": "stream",
          "name": "stdout",
          "text": [
            "First Name: Valentina Last Name: Giraldo\n"
          ]
        }
      ]
    },
    {
      "cell_type": "code",
      "source": [
        "# More complicated number example\n",
        "for i in range (0,10): print(i)"
      ],
      "metadata": {
        "colab": {
          "base_uri": "https://localhost:8080/"
        },
        "id": "I1wD3jbpSFxV",
        "outputId": "6539c4bd-48dc-45e5-a10e-2f56cf364b67"
      },
      "execution_count": 17,
      "outputs": [
        {
          "output_type": "stream",
          "name": "stdout",
          "text": [
            "0\n",
            "1\n",
            "2\n",
            "3\n",
            "4\n",
            "5\n",
            "6\n",
            "7\n",
            "8\n",
            "9\n"
          ]
        }
      ]
    },
    {
      "cell_type": "code",
      "source": [
        "# Combine string and numbers\n",
        "print('My favorit number is', 21, 'because aja')"
      ],
      "metadata": {
        "colab": {
          "base_uri": "https://localhost:8080/"
        },
        "id": "F1APvw0aTLDb",
        "outputId": "6c8505ce-3aae-4d8c-8054-9f2017631992"
      },
      "execution_count": 19,
      "outputs": [
        {
          "output_type": "stream",
          "name": "stdout",
          "text": [
            "My favorit number is 21 because aja\n"
          ]
        }
      ]
    },
    {
      "cell_type": "markdown",
      "source": [
        "### **Round**\n"
      ],
      "metadata": {
        "id": "WZZOYb_7TiJD"
      }
    },
    {
      "cell_type": "code",
      "source": [
        "# A simple example\n",
        "round(1.253,2)"
      ],
      "metadata": {
        "colab": {
          "base_uri": "https://localhost:8080/"
        },
        "id": "9AzHKi_1TlMz",
        "outputId": "25d4aa7b-b3bb-4403-a7e7-d2beb9269ed4"
      },
      "execution_count": 21,
      "outputs": [
        {
          "output_type": "execute_result",
          "data": {
            "text/plain": [
              "1.25"
            ]
          },
          "metadata": {},
          "execution_count": 21
        }
      ]
    },
    {
      "cell_type": "code",
      "source": [
        "# Time to practice \n",
        "# Consider the number 7.2354\n",
        "# Print every result for rounding from 3 to 0 positions\n",
        "print('Round with',0, 'decimals', round(7.2354,0))\n",
        "print('Round with',1, 'decimals', round(7.2354,1))\n",
        "print('Round with',2, 'decimals', round(7.2354,2))\n",
        "print('Round with',3, 'decimals', round(7.2354,3))"
      ],
      "metadata": {
        "colab": {
          "base_uri": "https://localhost:8080/"
        },
        "id": "TODFBATfUHSj",
        "outputId": "a12a0ef7-6def-48a9-80dc-3d75c762710c"
      },
      "execution_count": 51,
      "outputs": [
        {
          "output_type": "stream",
          "name": "stdout",
          "text": [
            "Round with 0 decimals 7.0\n",
            "Round with 1 decimals 7.2\n",
            "Round with 2 decimals 7.24\n",
            "Round with 3 decimals 7.235\n"
          ]
        }
      ]
    },
    {
      "cell_type": "code",
      "source": [
        "# If we for loops\n",
        "for i in range(0,4): print('Round with',i, 'decimals', round(7.2354,i))"
      ],
      "metadata": {
        "colab": {
          "base_uri": "https://localhost:8080/"
        },
        "id": "JkmgvzaRYkQn",
        "outputId": "4ebcb5fe-eb25-457b-9fcb-fe9c4aac146d"
      },
      "execution_count": 55,
      "outputs": [
        {
          "output_type": "stream",
          "name": "stdout",
          "text": [
            "Round with 0 decimals 7.0\n",
            "Round with 1 decimals 7.2\n",
            "Round with 2 decimals 7.24\n",
            "Round with 3 decimals 7.235\n"
          ]
        }
      ]
    },
    {
      "cell_type": "code",
      "source": [
        "# Practice\n",
        "# Print the 100 multiples of number 2\n",
        "for i in range(0,101): print('The',i,'Multiples of 2 is',i*2)"
      ],
      "metadata": {
        "colab": {
          "base_uri": "https://localhost:8080/"
        },
        "id": "5yYUL0wqZZ7W",
        "outputId": "0bf483b2-aab5-4779-f23b-7c2b88885b46"
      },
      "execution_count": 79,
      "outputs": [
        {
          "output_type": "stream",
          "name": "stdout",
          "text": [
            "The 0 Multiples of 2 is 0\n",
            "The 1 Multiples of 2 is 2\n",
            "The 2 Multiples of 2 is 4\n",
            "The 3 Multiples of 2 is 6\n",
            "The 4 Multiples of 2 is 8\n",
            "The 5 Multiples of 2 is 10\n",
            "The 6 Multiples of 2 is 12\n",
            "The 7 Multiples of 2 is 14\n",
            "The 8 Multiples of 2 is 16\n",
            "The 9 Multiples of 2 is 18\n",
            "The 10 Multiples of 2 is 20\n",
            "The 11 Multiples of 2 is 22\n",
            "The 12 Multiples of 2 is 24\n",
            "The 13 Multiples of 2 is 26\n",
            "The 14 Multiples of 2 is 28\n",
            "The 15 Multiples of 2 is 30\n",
            "The 16 Multiples of 2 is 32\n",
            "The 17 Multiples of 2 is 34\n",
            "The 18 Multiples of 2 is 36\n",
            "The 19 Multiples of 2 is 38\n",
            "The 20 Multiples of 2 is 40\n",
            "The 21 Multiples of 2 is 42\n",
            "The 22 Multiples of 2 is 44\n",
            "The 23 Multiples of 2 is 46\n",
            "The 24 Multiples of 2 is 48\n",
            "The 25 Multiples of 2 is 50\n",
            "The 26 Multiples of 2 is 52\n",
            "The 27 Multiples of 2 is 54\n",
            "The 28 Multiples of 2 is 56\n",
            "The 29 Multiples of 2 is 58\n",
            "The 30 Multiples of 2 is 60\n",
            "The 31 Multiples of 2 is 62\n",
            "The 32 Multiples of 2 is 64\n",
            "The 33 Multiples of 2 is 66\n",
            "The 34 Multiples of 2 is 68\n",
            "The 35 Multiples of 2 is 70\n",
            "The 36 Multiples of 2 is 72\n",
            "The 37 Multiples of 2 is 74\n",
            "The 38 Multiples of 2 is 76\n",
            "The 39 Multiples of 2 is 78\n",
            "The 40 Multiples of 2 is 80\n",
            "The 41 Multiples of 2 is 82\n",
            "The 42 Multiples of 2 is 84\n",
            "The 43 Multiples of 2 is 86\n",
            "The 44 Multiples of 2 is 88\n",
            "The 45 Multiples of 2 is 90\n",
            "The 46 Multiples of 2 is 92\n",
            "The 47 Multiples of 2 is 94\n",
            "The 48 Multiples of 2 is 96\n",
            "The 49 Multiples of 2 is 98\n",
            "The 50 Multiples of 2 is 100\n",
            "The 51 Multiples of 2 is 102\n",
            "The 52 Multiples of 2 is 104\n",
            "The 53 Multiples of 2 is 106\n",
            "The 54 Multiples of 2 is 108\n",
            "The 55 Multiples of 2 is 110\n",
            "The 56 Multiples of 2 is 112\n",
            "The 57 Multiples of 2 is 114\n",
            "The 58 Multiples of 2 is 116\n",
            "The 59 Multiples of 2 is 118\n",
            "The 60 Multiples of 2 is 120\n",
            "The 61 Multiples of 2 is 122\n",
            "The 62 Multiples of 2 is 124\n",
            "The 63 Multiples of 2 is 126\n",
            "The 64 Multiples of 2 is 128\n",
            "The 65 Multiples of 2 is 130\n",
            "The 66 Multiples of 2 is 132\n",
            "The 67 Multiples of 2 is 134\n",
            "The 68 Multiples of 2 is 136\n",
            "The 69 Multiples of 2 is 138\n",
            "The 70 Multiples of 2 is 140\n",
            "The 71 Multiples of 2 is 142\n",
            "The 72 Multiples of 2 is 144\n",
            "The 73 Multiples of 2 is 146\n",
            "The 74 Multiples of 2 is 148\n",
            "The 75 Multiples of 2 is 150\n",
            "The 76 Multiples of 2 is 152\n",
            "The 77 Multiples of 2 is 154\n",
            "The 78 Multiples of 2 is 156\n",
            "The 79 Multiples of 2 is 158\n",
            "The 80 Multiples of 2 is 160\n",
            "The 81 Multiples of 2 is 162\n",
            "The 82 Multiples of 2 is 164\n",
            "The 83 Multiples of 2 is 166\n",
            "The 84 Multiples of 2 is 168\n",
            "The 85 Multiples of 2 is 170\n",
            "The 86 Multiples of 2 is 172\n",
            "The 87 Multiples of 2 is 174\n",
            "The 88 Multiples of 2 is 176\n",
            "The 89 Multiples of 2 is 178\n",
            "The 90 Multiples of 2 is 180\n",
            "The 91 Multiples of 2 is 182\n",
            "The 92 Multiples of 2 is 184\n",
            "The 93 Multiples of 2 is 186\n",
            "The 94 Multiples of 2 is 188\n",
            "The 95 Multiples of 2 is 190\n",
            "The 96 Multiples of 2 is 192\n",
            "The 97 Multiples of 2 is 194\n",
            "The 98 Multiples of 2 is 196\n",
            "The 99 Multiples of 2 is 198\n",
            "The 100 Multiples of 2 is 200\n"
          ]
        }
      ]
    },
    {
      "cell_type": "markdown",
      "source": [
        ""
      ],
      "metadata": {
        "id": "SeqjFIz-X8UB"
      }
    }
  ]
}