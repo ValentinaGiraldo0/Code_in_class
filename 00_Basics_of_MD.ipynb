{
  "nbformat": 4,
  "nbformat_minor": 0,
  "metadata": {
    "colab": {
      "name": "00- Basics of MD.ipynb",
      "provenance": [],
      "toc_visible": true,
      "authorship_tag": "ABX9TyNODqjdExqTZFGD8UZRL58t",
      "include_colab_link": true
    },
    "kernelspec": {
      "name": "python3",
      "display_name": "Python 3"
    },
    "language_info": {
      "name": "python"
    }
  },
  "cells": [
    {
      "cell_type": "markdown",
      "metadata": {
        "id": "view-in-github",
        "colab_type": "text"
      },
      "source": [
        "<a href=\"https://colab.research.google.com/github/ValentinaGiraldo0/Code_in_class/blob/main/00_Basics_of_MD.ipynb\" target=\"_parent\"><img src=\"https://colab.research.google.com/assets/colab-badge.svg\" alt=\"Open In Colab\"/></a>"
      ]
    },
    {
      "cell_type": "code",
      "execution_count": null,
      "metadata": {
        "id": "rbOtEFHARPtA"
      },
      "outputs": [],
      "source": [
        ""
      ]
    },
    {
      "cell_type": "markdown",
      "source": [
        "# Heading level 1 \n"
      ],
      "metadata": {
        "id": "M4ivO-IwVUjO"
      }
    },
    {
      "cell_type": "markdown",
      "source": [
        "## Head level 2"
      ],
      "metadata": {
        "id": "8SbKgDgoXT8P"
      }
    },
    {
      "cell_type": "markdown",
      "source": [
        "ujwsgbuhyegbfuhysge\n"
      ],
      "metadata": {
        "id": "cyck64kjXl4u"
      }
    },
    {
      "cell_type": "markdown",
      "source": [
        "#Text formating  \n",
        "## Bold\n",
        "\n",
        "**Car**\n",
        "\n",
        "**My car is green and is very very old**\n"
      ],
      "metadata": {
        "id": "W66PrMnQHAHY"
      }
    },
    {
      "cell_type": "markdown",
      "source": [
        "## Bold\n",
        "\n",
        "**Car**\n",
        "\n",
        "**My car is green and is very very old**\n",
        "\n",
        "\n"
      ],
      "metadata": {
        "id": "31GHvE8yH5O5"
      }
    },
    {
      "cell_type": "markdown",
      "source": [
        "## *Italics* \n",
        "\n",
        "*car*\n",
        "\n",
        "*my car is green and is very old*\n",
        "\n",
        "\n"
      ],
      "metadata": {
        "id": "DvmFqKJFIHEq"
      }
    },
    {
      "cell_type": "markdown",
      "source": [
        "## Combine bold and italics \n",
        "\n",
        "***This text has bold and italic format***"
      ],
      "metadata": {
        "id": "a5nogVkNIl7w"
      }
    },
    {
      "cell_type": "markdown",
      "source": [
        "## Underline \n",
        "\n",
        "WE DON´T, becacuse underline is reserved for links.\n",
        "\n",
        "\n"
      ],
      "metadata": {
        "id": "AdHg592fI-d2"
      }
    },
    {
      "cell_type": "markdown",
      "source": [
        "# List\n",
        "\n"
      ],
      "metadata": {
        "id": "MJqIFhyNIEtQ"
      }
    },
    {
      "cell_type": "markdown",
      "source": [
        "## Unorderer list\n",
        "\n",
        "**Grocery list**\n",
        "* Rice \n",
        "* Eggs\n",
        "* Coffe\n",
        "* Bread\n",
        "\n"
      ],
      "metadata": {
        "id": "BAx6qyjLKrIN"
      }
    },
    {
      "cell_type": "markdown",
      "source": [
        "## Ordered list \n",
        "\n",
        "**Table contents**\n",
        "\n",
        "1. Intruodution\n",
        "2. Reference frame \n",
        "\n",
        "\n",
        " etctectetcetchsgaiughv\n",
        "\n",
        "\n",
        "3. Results\n",
        "\n"
      ],
      "metadata": {
        "id": "-mUTNybfLSXk"
      }
    },
    {
      "cell_type": "markdown",
      "source": [
        "## Nested List \n",
        "\n",
        "A nested list is a list that has another list inside it \n",
        "\n",
        "**Example:**\n",
        "1. A\n",
        "\n",
        "    1.1. a\n",
        "    1.2. m\n",
        "\n",
        "2. B \n",
        "\n",
        "    * b \n",
        "    \n",
        "\n"
      ],
      "metadata": {
        "id": "eA1Yk0--L2kJ"
      }
    },
    {
      "cell_type": "markdown",
      "source": [
        "# Insert"
      ],
      "metadata": {
        "id": "e1l_fhCZP27T"
      }
    },
    {
      "cell_type": "markdown",
      "source": [
        "## Links \n",
        "\n",
        "Use this when you to coneect to extgernal sources. \n",
        "\n",
        "https://www.lasalle.edu.co/\n",
        "\n",
        "[La Salle](https://www.lasalle.edu.co/)\n",
        "\n",
        "\n"
      ],
      "metadata": {
        "id": "bW-5ZOQ-NfB8"
      }
    },
    {
      "cell_type": "markdown",
      "source": [
        "## Image\n",
        "\n",
        "![Image1](data:image/jpeg;base64,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)"
      ],
      "metadata": {
        "id": "7B90n0HfPtuc"
      }
    },
    {
      "cell_type": "markdown",
      "source": [
        "## Image save image\n",
        "![download.png](data:image/png;base64,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)\n",
        "\n"
      ],
      "metadata": {
        "id": "EfgvkqwoRIX5"
      }
    }
  ]
}