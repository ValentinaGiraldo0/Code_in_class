{
  "nbformat": 4,
  "nbformat_minor": 0,
  "metadata": {
    "colab": {
      "name": "00- Basics of MD.ipynb",
      "provenance": [],
      "toc_visible": true,
      "authorship_tag": "ABX9TyP8dj0cIM/1WJJAry1R3YDj",
      "include_colab_link": true
    },
    "kernelspec": {
      "name": "python3",
      "display_name": "Python 3"
    },
    "language_info": {
      "name": "python"
    }
  },
  "cells": [
    {
      "cell_type": "markdown",
      "metadata": {
        "id": "view-in-github",
        "colab_type": "text"
      },
      "source": [
        "<a href=\"https://colab.research.google.com/github/ValentinaGiraldo0/Code_in_class/blob/main/00_Basics_of_MD.ipynb\" target=\"_parent\"><img src=\"https://colab.research.google.com/assets/colab-badge.svg\" alt=\"Open In Colab\"/></a>"
      ]
    },
    {
      "cell_type": "code",
      "execution_count": null,
      "metadata": {
        "id": "rbOtEFHARPtA"
      },
      "outputs": [],
      "source": [
        ""
      ]
    },
    {
      "cell_type": "markdown",
      "source": [
        ""
      ],
      "metadata": {
        "id": "VRhDe0mmXhWm"
      }
    },
    {
      "cell_type": "markdown",
      "source": [
        "# Heading level 1 \n"
      ],
      "metadata": {
        "id": "M4ivO-IwVUjO"
      }
    },
    {
      "cell_type": "markdown",
      "source": [
        "## Head level 2"
      ],
      "metadata": {
        "id": "8SbKgDgoXT8P"
      }
    },
    {
      "cell_type": "markdown",
      "source": [
        "ujwsgbuhyegbfuhysge\n"
      ],
      "metadata": {
        "id": "cyck64kjXl4u"
      }
    }
  ]
}