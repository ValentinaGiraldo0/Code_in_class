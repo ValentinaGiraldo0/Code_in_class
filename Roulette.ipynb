{
  "nbformat": 4,
  "nbformat_minor": 0,
  "metadata": {
    "colab": {
      "provenance": [],
      "authorship_tag": "ABX9TyOBztxQ1IQ26enAGAp9ww8R",
      "include_colab_link": true
    },
    "kernelspec": {
      "name": "python3",
      "display_name": "Python 3"
    },
    "language_info": {
      "name": "python"
    }
  },
  "cells": [
    {
      "cell_type": "markdown",
      "metadata": {
        "id": "view-in-github",
        "colab_type": "text"
      },
      "source": [
        "<a href=\"https://colab.research.google.com/github/ValentinaGiraldo0/Code_in_class/blob/main/Roulette.ipynb\" target=\"_parent\"><img src=\"https://colab.research.google.com/assets/colab-badge.svg\" alt=\"Open In Colab\"/></a>"
      ]
    },
    {
      "cell_type": "markdown",
      "source": [
        "Exercise 1\n",
        "Roulette!\n",
        "\n",
        "Let's simulate a casino game. Specifically, a single-zero (french) roulette.\n",
        "\n",
        "This game consists on rolling a ball over a wheel with number pockets.\n",
        "\n",
        "Game\n",
        "\n",
        "To keep it simple, you can bet on a number and bet on a color.\n",
        "\n",
        "Create the corresponding code to simulate a round. You must show what was your bet (number and color) and the actual result.\n",
        "\n",
        "Tip\n",
        "\n",
        "To determine if a number (in int format) is even or odd, you can use:"
      ],
      "metadata": {
        "id": "GHFqak8FkMDn"
      }
    },
    {
      "cell_type": "code",
      "source": [
        "number = 24 # example\n",
        "\n",
        "'Even' if (number % 2) == 0 else 'Odd'"
      ],
      "metadata": {
        "colab": {
          "base_uri": "https://localhost:8080/",
          "height": 36
        },
        "id": "tGJjjTkGkQyH",
        "outputId": "2f5bedf0-cfa3-4115-c53e-66aade64d033"
      },
      "execution_count": 2,
      "outputs": [
        {
          "output_type": "execute_result",
          "data": {
            "text/plain": [
              "'Even'"
            ],
            "application/vnd.google.colaboratory.intrinsic+json": {
              "type": "string"
            }
          },
          "metadata": {},
          "execution_count": 2
        }
      ]
    },
    {
      "cell_type": "code",
      "source": [
        "import numpy as np"
      ],
      "metadata": {
        "id": "oj8P2VvzkUCZ"
      },
      "execution_count": 3,
      "outputs": []
    },
    {
      "cell_type": "code",
      "source": [
        "#The Roulette\n",
        "\n",
        "# My bet\n",
        "print('Results for my number and color bet:')\n",
        "Mycolor_bet  = 'Red'\n",
        "Mynumber_bet = 21\n",
        "print('Mycolor_bet:', Mycolor_bet, 'Mynumber_bet:', Mynumber_bet)\n",
        "\n",
        "## Checking the color and number Roulette  \n",
        "number = np.random.randint(low = 0, high = 37)\n",
        "print('Roulette Result:')\n",
        "print('Number_Roulette:', number) \n",
        "\n",
        "# The color and number results the Roulette\n",
        "if number == 0: color = 'Color_Roulette:' 'Nuetral'\n",
        "if number > 0 and number <=10:\n",
        "  print('Color_Roulette:' ,'Black' if (number % 2) == 0 else 'Red')\n",
        "elif number > 10 and number <=18:\n",
        "  print('Color_Roulette:' , 'Red' if (number % 2) == 0 else 'Black')\n",
        "elif number > 18 and number <=28:\n",
        "  print('Color_Roulette:', 'Black' if (number % 2) == 0 else 'Red')\n",
        "elif number > 28 and number <=37:\n",
        "  print('Color_Roulette:' , 'Red' if (number % 2) == 0 else 'Black')\n",
        "\n",
        "\n",
        "print('The Result:')\n",
        "'¡You Win!' if (number == Mynumber_bet) else '¡You Lose!'"
      ],
      "metadata": {
        "colab": {
          "base_uri": "https://localhost:8080/",
          "height": 140
        },
        "id": "oO3YDdK-fNVf",
        "outputId": "6dd52390-0505-4d82-b7fa-4b39809d1af2"
      },
      "execution_count": 363,
      "outputs": [
        {
          "output_type": "stream",
          "name": "stdout",
          "text": [
            "Results for my number and color bet:\n",
            "Mycolor_bet: Red Mynumber_bet: 21\n",
            "Roulette Result:\n",
            "Number_Roulette: 12\n",
            "Color_Roulette: Red\n",
            "The Result:\n"
          ]
        },
        {
          "output_type": "execute_result",
          "data": {
            "text/plain": [
              "'¡You Lose!'"
            ],
            "application/vnd.google.colaboratory.intrinsic+json": {
              "type": "string"
            }
          },
          "metadata": {},
          "execution_count": 363
        }
      ]
    }
  ]
}